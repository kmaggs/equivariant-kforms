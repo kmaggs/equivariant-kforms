{
 "cells": [
  {
   "attachments": {},
   "cell_type": "markdown",
   "metadata": {},
   "source": [
    "# Simple $1$-form Convolutional Network"
   ]
  },
  {
   "attachments": {},
   "cell_type": "markdown",
   "metadata": {},
   "source": [
    "In this notebook, we develop a few examples of simple De Rham Neural Networks."
   ]
  },
  {
   "cell_type": "code",
   "execution_count": 1,
   "metadata": {},
   "outputs": [],
   "source": [
    "import numpy as np\n",
    "import matplotlib as mpl\n",
    "import torch\n",
    "import torch.nn as nn\n",
    "from matplotlib import pyplot as plt\n",
    "from matplotlib import colors as mcolors"
   ]
  },
  {
   "cell_type": "markdown",
   "metadata": {},
   "source": [
    "# Generate some graph data to play around with"
   ]
  },
  {
   "cell_type": "code",
   "execution_count": 2,
   "metadata": {},
   "outputs": [],
   "source": [
    "import networkx as nx\n",
    "import torch_geometric"
   ]
  },
  {
   "cell_type": "code",
   "execution_count": 3,
   "metadata": {},
   "outputs": [
    {
     "data": {
      "image/png": "[encoded data removed]",
      "text/plain": [
       "<Figure size 432x288 with 1 Axes>"
      ]
     },
     "metadata": {},
     "output_type": "display_data"
    }
   ],
   "source": [
    "# draw a cycle graph with 10 nodes\n",
    "G = nx.cycle_graph(10)\n",
    "\n",
    "#plot the graph\n",
    "nx.draw(G, with_labels=True, font_weight='bold')"
   ]
  },
  {
   "cell_type": "code",
   "execution_count": 5,
   "metadata": {},
   "outputs": [
    {
     "name": "stderr",
     "output_type": "stream",
     "text": [
      "/var/folders/hz/4pywr0zn1y34rhzrg6_ntgs80000gq/T/ipykernel_1296/720891803.py:48: UserWarning: Creating a tensor from a list of numpy.ndarrays is extremely slow. Please consider converting the list to a single numpy.ndarray with numpy.array() before converting to a tensor. (Triggered internally at /Users/runner/work/pytorch/pytorch/pytorch/torch/csrc/utils/tensor_new.cpp:248.)\n",
      "  data['x'] = torch.tensor(list(pos.values())).float()\n"
     ]
    }
   ],
   "source": [
    "# generate the data\n",
    "def generate_data3(n_samples = 300):\n",
    "\n",
    "    dataset = []\n",
    "    graphs = []\n",
    "    positions = []\n",
    "    labels = []\n",
    "\n",
    "\n",
    "\n",
    "    for i in range(n_samples):\n",
    "        \n",
    "\n",
    "        if i % 3 == 0:\n",
    "            # make a networkx graph consisting of a single cycle\n",
    "            l = np.random.randint(10,20)\n",
    "            G = nx.cycle_graph(l)\n",
    "\n",
    "            labels.append(torch.tensor([1,0,0]))\n",
    "\n",
    "        # make a networkx graph consisting of a single cycle\n",
    "        if i % 3 == 1:\n",
    "            l = np.random.randint(10,20)\n",
    "            G = nx.star_graph(l)\n",
    "\n",
    "            labels.append(torch.tensor([0,1,0]))\n",
    "\n",
    "        # make a networkx graph consisting of a tree\n",
    "        if i % 3 == 2:\n",
    "            l = np.random.randint(10,20)\n",
    "            G = nx.random_tree(l)\n",
    "\n",
    "            labels.append(torch.tensor([0,0,1]))\n",
    "\n",
    "\n",
    "        # choose a random integer between 1 and 10\n",
    "        n = np.random.randint(7,10)\n",
    "\n",
    "        # calculate the spring layout\n",
    "        pos = nx.spring_layout(G)\n",
    "\n",
    "        #\n",
    "        graphs.append(G)\n",
    "        positions.append(pos)\n",
    "\n",
    "        # convert graph to a torch geometric data object\n",
    "        data = torch_geometric.utils.from_networkx(G)\n",
    "        data['x'] = torch.tensor(list(pos.values())).float()\n",
    "        data['y'] = labels[-1]\n",
    "\n",
    "        dataset.append(data)\n",
    "\n",
    "    return dataset, graphs, positions, labels\n",
    "\n",
    "\n",
    "# generate the data\n",
    "dataset, global_graphs, global_positions, labels = generate_data3(n_samples = 200)"
   ]
  },
  {
   "attachments": {},
   "cell_type": "markdown",
   "metadata": {},
   "source": [
    "## Integrating Paths Agains Vector Fields\n"
   ]
  },
  {
   "attachments": {},
   "cell_type": "markdown",
   "metadata": {},
   "source": [
    "We first need a few functions for doing efficient path integration in this setting."
   ]
  },
  {
   "cell_type": "code",
   "execution_count": 6,
   "metadata": {},
   "outputs": [],
   "source": [
    "# a function for turning a path into a chain\n",
    "def graph_to_chain(graph):\n",
    "    \"\"\" \n",
    "    A function for turning a graph into a chain\n",
    "    \"\"\"\n",
    "\n",
    "    # get node features\n",
    "    node_features = torch.tensor(graph['x'])\n",
    "\n",
    "    # get edges\n",
    "    edge_index =torch.tensor(data['edge_index']).T\n",
    "\n",
    "    # number of 1-simplices\n",
    "    r = edge_index.shape[0]\n",
    "\n",
    "    # embedding dimension\n",
    "    n = node_features.shape[1]\n",
    "\n",
    "    # sort the edge indices\n",
    "    edges = torch.tensor([np.sort([edge_index[i][0],edge_index[i][1]]) for i in range(len(edge_index))])\n",
    "\n",
    "    # initialize chain\n",
    "    ch = torch.zeros((r,2,n))\n",
    "\n",
    "    # turn edges into a 1-chain\n",
    "    for i in range(r):\n",
    "        ch[i,0,:] = node_features[edges[i][0]]\n",
    "        ch[i,1,:] = node_features[edges[i][1]]\n",
    "\n",
    "    return ch\n",
    "\n",
    "def path_to_chain(p):\n",
    "    \"\"\"  \n",
    "    A function for turning a path into a chain\n",
    "\n",
    "    Parameters\n",
    "    ----------\n",
    "    p : numpy array\n",
    "        A path in R^n, represented as a numpy array of shape (p,n), where p is the number of points in the path\n",
    "\n",
    "    Returns\n",
    "    -------\n",
    "    chain : numpy array\n",
    "        A chain in R^n, represented as a numpy array of shape (p-1,2,n), where p is the number of points in the path.\n",
    "        The middle index corresponds to start and endpoints of the edges in the chain.\n",
    "    \"\"\"\n",
    "\n",
    "    r = len(p) - 1\n",
    "\n",
    "    n = p[0].shape[0]\n",
    "    \n",
    "    \n",
    "    chain = torch.zeros((r,2,n))\n",
    "\n",
    "    chain[:,1,:] = torch.tensor(p[1:,:])\n",
    "    chain[:,0,:] = torch.tensor(p[0:-1,:])\n",
    "\n",
    "    return chain\n",
    "\n",
    "    \n",
    "# a function for turning a chain into a discretized chain\n",
    "def discretize_chain(chain,d):\n",
    "    \"\"\" \n",
    "    A function for turning a chain into a discretized chain\n",
    "\n",
    "    Parameters\n",
    "    ----------\n",
    "    chain : numpy array\n",
    "        A chain in R^n, represented as a numpy array of shape (p-1,2,n), where p is the number of points in the path.\n",
    "\n",
    "    d : int\n",
    "        The number of points in the discretized chain\n",
    "\n",
    "    Returns\n",
    "    -------\n",
    "    d_chain : numpy array\n",
    "        A discretized chain in R^n, represented as a numpy array of shape (p-1,d,n), where p is the number of points in the path.\n",
    "\n",
    "    \"\"\"\n",
    "\n",
    "    r = chain.shape[0]\n",
    "\n",
    "    n = chain.shape[2]\n",
    "\n",
    "    d_chain = torch.zeros((r,d,n))\n",
    "\n",
    "    t = np.linspace(0,1,d)\n",
    "\n",
    "    for i in range(d):\n",
    "\n",
    "        d_chain[:,i,:] = (1-t[i]) * chain[:,0,:] + t[i] * chain[:,1,:] \n",
    "\n",
    "    return d_chain\n",
    "\n"
   ]
  },
  {
   "cell_type": "code",
   "execution_count": 7,
   "metadata": {},
   "outputs": [],
   "source": [
    "# a function for turning a chain into a cochain data matrix\n",
    "def gen_CDM2(vf,chain, d = 5):\n",
    "    \"\"\"\n",
    "    A function for generating a cochain data matrix from a chain and a vector field\n",
    "\n",
    "    Parameters\n",
    "    ----------\n",
    "    vf : a Pytorch Sequential object\n",
    "        The vector field to be applied to the chain\n",
    "    \n",
    "    \\chain : a torch tensor of shape (r,2,n)\n",
    "        The chain to be turned into a cochain data matrix\n",
    "\n",
    "    d : int\n",
    "        The number of discrete steps in the discretization of the chain\n",
    "    \n",
    "    Returns\n",
    "    -------\n",
    "    out : a torch tensor of shape (r,c)\n",
    "        The cochain data matrix\n",
    "    \"\"\"\n",
    "\n",
    "    \n",
    "    # discretize the chain\n",
    "    chain = discretize_chain(chain, d)\n",
    "\n",
    "    # number of simplicies\n",
    "    r = chain.shape[0]\n",
    "\n",
    "    # number of discrete steps\n",
    "    d = chain.shape[1]\n",
    "\n",
    "    # dimension of ambient space\n",
    "    n = chain.shape[2]\n",
    "\n",
    "    # number of feature-cochains in the cochain data matrix\n",
    "    c = int(vf[-1].out_features / n)\n",
    "\n",
    "    # apply the vector field to the discretized chain\n",
    "    out = vf(chain).reshape((r,d,n,c))\n",
    "\n",
    "    # calculate the simplex gradients\n",
    "    simplex_grad = chain[:,1,:] - chain[:,0,:]\n",
    "\n",
    "    # swap dimensions n and c in out\n",
    "    out = out.permute(0,1,3,2)\n",
    "\n",
    "    # calculate the inner product of the vector field and the simplex gradients at each discrete step on each simplex\n",
    "    inner_prod = torch.matmul(out,simplex_grad.T/(d-1))\n",
    "\n",
    "    # take diagonal of out3 along axis 0 and 3 (this corresponds to correcting the broadcasted multplication effect)\n",
    "    inner_prod = torch.diagonal(inner_prod, dim1 = 0, dim2 = 3)\n",
    "\n",
    "    # permute dimensions 0 and 2 of out4\n",
    "    inner_prod = inner_prod.permute(2,0,1)\n",
    "\n",
    "    # apply the trapzoidal rule to the inner product\n",
    "    cdm = (inner_prod[:,1:,:] + inner_prod[:,0:-1,:])/2\n",
    "    cdm = cdm.sum(axis = 1)\n",
    "\n",
    "    return cdm"
   ]
  },
  {
   "cell_type": "code",
   "execution_count": 39,
   "metadata": {},
   "outputs": [
    {
     "name": "stderr",
     "output_type": "stream",
     "text": [
      "/var/folders/hz/4pywr0zn1y34rhzrg6_ntgs80000gq/T/ipykernel_1296/710496168.py:8: UserWarning: To copy construct from a tensor, it is recommended to use sourceTensor.clone().detach() or sourceTensor.clone().detach().requires_grad_(True), rather than torch.tensor(sourceTensor).\n",
      "  node_features = torch.tensor(graph['x'])\n",
      "/var/folders/hz/4pywr0zn1y34rhzrg6_ntgs80000gq/T/ipykernel_1296/710496168.py:11: UserWarning: To copy construct from a tensor, it is recommended to use sourceTensor.clone().detach() or sourceTensor.clone().detach().requires_grad_(True), rather than torch.tensor(sourceTensor).\n",
      "  edge_index =torch.tensor(data['edge_index']).T\n"
     ]
    }
   ],
   "source": [
    "# convert the data\n",
    "# example\n",
    "chains = []\n",
    "for data in dataset:\n",
    "    chains.append(graph_to_chain(data))"
   ]
  },
  {
   "cell_type": "code",
   "execution_count": 9,
   "metadata": {},
   "outputs": [
    {
     "data": {
      "text/plain": [
       "torch.Size([100, 2])"
      ]
     },
     "execution_count": 9,
     "metadata": {},
     "output_type": "execute_result"
    }
   ],
   "source": [
    "# translate a chain by adding a vector in the dim 2\n",
    "def translate_chain(chain, v):\n",
    "    \"\"\"\n",
    "    A function for translating a chain by adding a vector in the dim 2\n",
    "\n",
    "    Parameters\n",
    "    ----------\n",
    "    chain : a torch tensor of shape (r,2,n)\n",
    "        The chain to be translated\n",
    "\n",
    "    v : a torch tensor of shape (n)\n",
    "        The vector to translate the chain by\n",
    "    \n",
    "    Returns\n",
    "    -------\n",
    "    out : a torch tensor of shape (r,2,n)\n",
    "        The translated chain\n",
    "    \"\"\"\n",
    "\n",
    "    out = chain + v\n",
    "\n",
    "    return out\n",
    "\n",
    "# create a grid of 2d vectors in the range [-1,1]x[-1,1]\n",
    "def create_grid(n):\n",
    "    \"\"\"\n",
    "    A function for creating a grid of 2d vectors in the range [-1,1]x[-1,1]\n",
    "\n",
    "    Parameters\n",
    "    ----------\n",
    "    n : int\n",
    "        The number of points in the grid\n",
    "    \n",
    "    Returns\n",
    "    -------\n",
    "    out : a torch tensor of shape (n^2,2)\n",
    "        The grid of 2d vectors\n",
    "    \"\"\"\n",
    "\n",
    "    x = np.linspace(-1,1,n)\n",
    "    y = np.linspace(-1,1,n)\n",
    "\n",
    "    X,Y = np.meshgrid(x,y)\n",
    "\n",
    "    out = torch.zeros((n**2,2))\n",
    "\n",
    "    for i in range(n):\n",
    "        for j in range(n):\n",
    "            out[i*n + j,0] = X[i,j]\n",
    "            out[i*n + j,1] = Y[i,j]\n",
    "\n",
    "    return out\n",
    "\n",
    "\n",
    "out = create_grid(10)\n",
    "\n",
    "out.shape"
   ]
  },
  {
   "attachments": {},
   "cell_type": "markdown",
   "metadata": {},
   "source": [
    "### Synthetic Dataset of paths"
   ]
  },
  {
   "cell_type": "markdown",
   "metadata": {},
   "source": [
    "# Chain Operations"
   ]
  },
  {
   "cell_type": "markdown",
   "metadata": {},
   "source": [
    "The philosophy is one should leave the k-form along as much as possible and focus on operations that move the chains around."
   ]
  },
  {
   "cell_type": "code",
   "execution_count": 10,
   "metadata": {},
   "outputs": [],
   "source": [
    "chain = chains[0]"
   ]
  },
  {
   "cell_type": "code",
   "execution_count": 11,
   "metadata": {},
   "outputs": [
    {
     "data": {
      "image/png": "[encoded data removed]",
      "text/plain": [
       "<Figure size 432x288 with 1 Axes>"
      ]
     },
     "metadata": {
      "needs_background": "light"
     },
     "output_type": "display_data"
    }
   ],
   "source": [
    "# plot a chain\n",
    "\n",
    "# initialise plot\n",
    "fig, ax = plt.subplots()\n",
    "\n",
    "\n",
    "# for each row in chain, plot the line segment connecting chain[i,0,:] to chain[i,1,:]\n",
    "for i in range(chain.shape[0]):\n",
    "    plt.plot(chain[i,:,0],chain[i,:,1], color='b')\n",
    "\n",
    "plt.show()"
   ]
  },
  {
   "cell_type": "code",
   "execution_count": 12,
   "metadata": {},
   "outputs": [],
   "source": [
    "def plot_chain(chain, ax):\n",
    "\n",
    "    # for each row in chain, plot the line segment connecting chain[i,0,:] to chain[i,1,:]\n",
    "    for i in range(chain.shape[0]):\n",
    "        ax.plot(chain[i,:,0],chain[i,:,1], color='g')\n"
   ]
  },
  {
   "cell_type": "code",
   "execution_count": 13,
   "metadata": {},
   "outputs": [],
   "source": [
    "# restrict the chain to nodes with L1 norm less than 1\n",
    "\n",
    "def restrict_chain(chain, radius):\n",
    "\n",
    "    \"\"\"\n",
    "    A function for restricting a chain to nodes with L1 norm less than 1\n",
    "\n",
    "    Parameters\n",
    "    ----------\n",
    "    chain : a torch tensor of shape (r,2,n)\n",
    "        The chain to be restricted\n",
    "\n",
    "    radius : float\n",
    "        The radius\n",
    "    \n",
    "    Returns\n",
    "    -------\n",
    "    out : a subset of chain with rows corresponding to nodes with L1 norm less than 1\n",
    "    \"\"\"\n",
    "\n",
    "    # calculate the L1 norm of each node\n",
    "    norms = torch.sum(torch.abs(chain), axis = 2)\n",
    "\n",
    "    radius = radius * chain.shape[2]\n",
    "\n",
    "\n",
    "    # identify rows where norms[:,0] and norms[:,1] are less than radius\n",
    "    indices = np.where((norms[:,0] < radius) & (norms[:,1] < radius))\n",
    "\n",
    "\n",
    "\n",
    "    # return the subset of chain with rows corresponding to nodes with L1 norm less than 1\n",
    "    out = chain[indices]\n",
    "    \n",
    "\n",
    "    return out"
   ]
  },
  {
   "cell_type": "code",
   "execution_count": 14,
   "metadata": {},
   "outputs": [],
   "source": [
    "def simple_vf_plot(vf, ax, radius = 1):\n",
    "    x = np.linspace(-radius,radius,10)\n",
    "    y = np.linspace(-radius,radius,10)\n",
    "    X,Y = np.meshgrid(x,y)\n",
    "\n",
    "    X = torch.tensor(X).double()\n",
    "    Y = torch.tensor(Y).double()\n",
    "\n",
    "\n",
    "    U = np.zeros((10,10))\n",
    "    V = np.zeros((10,10))\n",
    "    for i in range(10):\n",
    "        for j in range(10):\n",
    "            inp = np.array([X[i,j],Y[i,j]])\n",
    "            inp = torch.tensor(inp).float()\n",
    "\n",
    "            tv = vf.forward(inp)\n",
    "\n",
    "            U[i,j] = tv[0]\n",
    "            V[i,j] = tv[1]\n",
    "    ax.quiver(X,Y,U,V)\n"
   ]
  },
  {
   "cell_type": "code",
   "execution_count": 15,
   "metadata": {},
   "outputs": [],
   "source": [
    "# add 'h' to each elem in dataset consisting of a vector of ones of length x.shape[0]\n",
    "def add_h(dataset):\n",
    "    \"\"\"\n",
    "    A function for adding 'h' to each elem in dataset consisting of a vector of ones of length x.shape[0]\n",
    "\n",
    "    Parameters\n",
    "    ----------\n",
    "    dataset : a list of torch geometric data objects\n",
    "        The dataset to be modified\n",
    "    \n",
    "    Returns\n",
    "    -------\n",
    "    out : a list of torch geometric data objects\n",
    "        The modified dataset\n",
    "    \"\"\"\n",
    "\n",
    "    out = []\n",
    "\n",
    "    for data in dataset:\n",
    "        data['h'] = torch.ones(data['x'].shape[0])\n",
    "        data['h'] = data['h'].reshape((data['h'].shape[0],1))\n",
    "        out.append(data)\n",
    "\n",
    "    return out\n",
    "\n",
    "dataset = add_h(dataset)"
   ]
  },
  {
   "cell_type": "code",
   "execution_count": 16,
   "metadata": {},
   "outputs": [],
   "source": [
    "def add_sym(dataset):\n",
    "\n",
    "    \"\"\"\n",
    "    A function for adding 'sym' to each elem in dataset consisting of a vector of ones of length x.shape[0]\n",
    "\n",
    "    Parameters\n",
    "    ----------\n",
    "    dataset : a list of torch geometric data objects\n",
    "        The dataset to be modified\n",
    "    \n",
    "    Returns\n",
    "    -------\n",
    "    out : a list of torch geometric data objects\n",
    "        The modified dataset\n",
    "    \"\"\"\n",
    "\n",
    "    out = []\n",
    "\n",
    "    for data in dataset:\n",
    "        data['sym'] = data['h'].T @ data['x'] @ data['x'].T @ data['h']\n",
    "        data['sym'] = data['sym'].reshape((data['sym'].shape[0],1))\n",
    "        out.append(data)\n",
    "\n",
    "    return out"
   ]
  },
  {
   "cell_type": "code",
   "execution_count": 17,
   "metadata": {},
   "outputs": [],
   "source": [
    "dataset = add_sym(dataset)"
   ]
  },
  {
   "cell_type": "code",
   "execution_count": 18,
   "metadata": {},
   "outputs": [
    {
     "data": {
      "text/plain": [
       "tensor([2.8422e-14])"
      ]
     },
     "execution_count": 18,
     "metadata": {},
     "output_type": "execute_result"
    }
   ],
   "source": [
    "graph = dataset[0]\n",
    "\n",
    "graph['sym'].flatten()"
   ]
  },
  {
   "cell_type": "code",
   "execution_count": 19,
   "metadata": {},
   "outputs": [
    {
     "data": {
      "text/plain": [
       "tensor([[2.8422e-14]])"
      ]
     },
     "execution_count": 19,
     "metadata": {},
     "output_type": "execute_result"
    }
   ],
   "source": [
    "graph['h'].T @ graph['x'] @ graph['x'].T @ graph['h']"
   ]
  },
  {
   "cell_type": "code",
   "execution_count": 20,
   "metadata": {},
   "outputs": [],
   "source": [
    "trans = create_grid(20)"
   ]
  },
  {
   "cell_type": "code",
   "execution_count": 21,
   "metadata": {},
   "outputs": [],
   "source": [
    "## intialise a neural 1-form/vector field in R^2\n",
    "c = 1 # non-equivariant feature dim\n",
    "d = 2 # ambient dim\n",
    "m = 1 # 1-form feat dim\n",
    "\n",
    "equivec = nn.Sequential(\n",
    "    nn.Linear(c*c+d, 32),\n",
    "    nn.LeakyReLU(),\n",
    "    nn.Linear(32, 32),\n",
    "    nn.LeakyReLU(),\n",
    "    nn.Linear(32, m)\n",
    ")"
   ]
  },
  {
   "cell_type": "code",
   "execution_count": 22,
   "metadata": {},
   "outputs": [],
   "source": [
    "def equi_vf_plot(vf, graph, ax, radius = 1):\n",
    "    x = np.linspace(-radius,radius,10)\n",
    "    y = np.linspace(-radius,radius,10)\n",
    "    X,Y = np.meshgrid(x,y)\n",
    "\n",
    "    X = torch.tensor(X).double()\n",
    "    Y = torch.tensor(Y).double()\n",
    "\n",
    "\n",
    "    U = np.zeros((10,10))\n",
    "    V = np.zeros((10,10))\n",
    "    for i in range(10):\n",
    "        for j in range(10):\n",
    "            inp = np.array([X[i,j],Y[i,j]])\n",
    "            inp = torch.tensor(inp).float()\n",
    "\n",
    "            sym = graph['sym'].flatten()\n",
    "\n",
    "            inp = torch.cat((sym,inp),0)\n",
    "            tv = vf.forward(inp)\n",
    "\n",
    "            tv = graph['x'].T @ graph['h'] @ tv\n",
    "\n",
    "            print(tv)\n",
    "\n",
    "\n",
    "            U[i,j] = tv[0]\n",
    "            V[i,j] = tv[1]\n",
    "    ax.quiver(X,Y,U,V)\n"
   ]
  },
  {
   "cell_type": "code",
   "execution_count": 23,
   "metadata": {},
   "outputs": [],
   "source": [
    "# return a rotation matrix in R^2 based on an angle\n",
    "def rot_mat(theta):\n",
    "    \"\"\"\n",
    "    A function for returning a rotation matrix in R^2 based on an angle\n",
    "\n",
    "    Parameters\n",
    "    ----------\n",
    "    theta : float\n",
    "        The angle of rotation\n",
    "    \n",
    "    Returns\n",
    "    -------\n",
    "    out : a torch tensor of shape (2,2)\n",
    "        The rotation matrix\n",
    "    \"\"\"\n",
    "\n",
    "    out = torch.tensor([[np.cos(theta),-np.sin(theta)],[np.sin(theta),np.cos(theta)]])\n",
    "\n",
    "    # turn out so everything is a float\n",
    "    out = out.float()\n",
    "    \n",
    "\n",
    "    return out\n",
    "\n",
    "graph2 = graph.clone()\n",
    "\n",
    "graph2['x'] = graph2['x'] @ rot_mat(np.pi/4)\n",
    "\n",
    "graph2['sym'] = graph2['h'].T @ graph2['x'] @ graph2['x'].T @ graph2['h']\n",
    "\n"
   ]
  },
  {
   "cell_type": "code",
   "execution_count": 24,
   "metadata": {},
   "outputs": [
    {
     "data": {
      "text/plain": [
       "tensor([[ 0.5291, -0.8016],\n",
       "        [ 0.8995, -0.3134],\n",
       "        [ 0.9397,  0.2969],\n",
       "        [ 0.6126,  0.8070],\n",
       "        [ 0.0483,  0.9994],\n",
       "        [-0.5290,  0.8043],\n",
       "        [-0.9000,  0.3120],\n",
       "        [-0.9380, -0.2991],\n",
       "        [-0.6158, -0.8056],\n",
       "        [-0.0464, -1.0000]])"
      ]
     },
     "execution_count": 24,
     "metadata": {},
     "output_type": "execute_result"
    }
   ],
   "source": [
    "graph['x']"
   ]
  },
  {
   "cell_type": "code",
   "execution_count": 25,
   "metadata": {},
   "outputs": [
    {
     "data": {
      "text/plain": [
       "tensor([[5.5879e-08],\n",
       "        [1.1921e-07]])"
      ]
     },
     "execution_count": 25,
     "metadata": {},
     "output_type": "execute_result"
    }
   ],
   "source": [
    "graph['x'].T @ graph['h']"
   ]
  },
  {
   "cell_type": "code",
   "execution_count": 26,
   "metadata": {},
   "outputs": [
    {
     "name": "stdout",
     "output_type": "stream",
     "text": [
      "tensor([1.0786e-09, 2.3009e-09], grad_fn=<MvBackward0>)\n",
      "tensor([1.0291e-09, 2.1955e-09], grad_fn=<MvBackward0>)\n",
      "tensor([9.8097e-10, 2.0927e-09], grad_fn=<MvBackward0>)\n",
      "tensor([9.4447e-10, 2.0149e-09], grad_fn=<MvBackward0>)\n",
      "tensor([9.6408e-10, 2.0567e-09], grad_fn=<MvBackward0>)\n",
      "tensor([9.8194e-10, 2.0948e-09], grad_fn=<MvBackward0>)\n",
      "tensor([9.8154e-10, 2.0939e-09], grad_fn=<MvBackward0>)\n",
      "tensor([9.7752e-10, 2.0854e-09], grad_fn=<MvBackward0>)\n",
      "tensor([8.6190e-10, 1.8387e-09], grad_fn=<MvBackward0>)\n",
      "tensor([7.1610e-10, 1.5277e-09], grad_fn=<MvBackward0>)\n",
      "tensor([1.0374e-09, 2.2131e-09], grad_fn=<MvBackward0>)\n",
      "tensor([9.7896e-10, 2.0884e-09], grad_fn=<MvBackward0>)\n",
      "tensor([9.2953e-10, 1.9830e-09], grad_fn=<MvBackward0>)\n",
      "tensor([8.8264e-10, 1.8830e-09], grad_fn=<MvBackward0>)\n",
      "tensor([9.1057e-10, 1.9425e-09], grad_fn=<MvBackward0>)\n",
      "tensor([9.8509e-10, 2.1015e-09], grad_fn=<MvBackward0>)\n",
      "tensor([1.0469e-09, 2.2334e-09], grad_fn=<MvBackward0>)\n",
      "tensor([1.0427e-09, 2.2245e-09], grad_fn=<MvBackward0>)\n",
      "tensor([9.0725e-10, 1.9355e-09], grad_fn=<MvBackward0>)\n",
      "tensor([7.6044e-10, 1.6223e-09], grad_fn=<MvBackward0>)\n",
      "tensor([1.0191e-09, 2.1740e-09], grad_fn=<MvBackward0>)\n",
      "tensor([9.6347e-10, 2.0554e-09], grad_fn=<MvBackward0>)\n",
      "tensor([8.7937e-10, 1.8760e-09], grad_fn=<MvBackward0>)\n",
      "tensor([8.2994e-10, 1.7705e-09], grad_fn=<MvBackward0>)\n",
      "tensor([8.6134e-10, 1.8375e-09], grad_fn=<MvBackward0>)\n",
      "tensor([9.3587e-10, 1.9965e-09], grad_fn=<MvBackward0>)\n",
      "tensor([1.0113e-09, 2.1574e-09], grad_fn=<MvBackward0>)\n",
      "tensor([1.0582e-09, 2.2575e-09], grad_fn=<MvBackward0>)\n",
      "tensor([9.6821e-10, 2.0655e-09], grad_fn=<MvBackward0>)\n",
      "tensor([8.2468e-10, 1.7593e-09], grad_fn=<MvBackward0>)\n",
      "tensor([1.0008e-09, 2.1350e-09], grad_fn=<MvBackward0>)\n",
      "tensor([9.4516e-10, 2.0163e-09], grad_fn=<MvBackward0>)\n",
      "tensor([8.8956e-10, 1.8977e-09], grad_fn=<MvBackward0>)\n",
      "tensor([7.9913e-10, 1.7048e-09], grad_fn=<MvBackward0>)\n",
      "tensor([8.1212e-10, 1.7325e-09], grad_fn=<MvBackward0>)\n",
      "tensor([8.9033e-10, 1.8994e-09], grad_fn=<MvBackward0>)\n",
      "tensor([9.7555e-10, 2.0812e-09], grad_fn=<MvBackward0>)\n",
      "tensor([9.8807e-10, 2.1079e-09], grad_fn=<MvBackward0>)\n",
      "tensor([9.4673e-10, 2.0197e-09], grad_fn=<MvBackward0>)\n",
      "tensor([8.7986e-10, 1.8770e-09], grad_fn=<MvBackward0>)\n",
      "tensor([9.8245e-10, 2.0959e-09], grad_fn=<MvBackward0>)\n",
      "tensor([9.2684e-10, 1.9773e-09], grad_fn=<MvBackward0>)\n",
      "tensor([8.7124e-10, 1.8587e-09], grad_fn=<MvBackward0>)\n",
      "tensor([8.1367e-10, 1.7358e-09], grad_fn=<MvBackward0>)\n",
      "tensor([8.0564e-10, 1.7187e-09], grad_fn=<MvBackward0>)\n",
      "tensor([8.5461e-10, 1.8232e-09], grad_fn=<MvBackward0>)\n",
      "tensor([9.3983e-10, 2.0050e-09], grad_fn=<MvBackward0>)\n",
      "tensor([9.1795e-10, 1.9583e-09], grad_fn=<MvBackward0>)\n",
      "tensor([8.8003e-10, 1.8774e-09], grad_fn=<MvBackward0>)\n",
      "tensor([8.1852e-10, 1.7462e-09], grad_fn=<MvBackward0>)\n",
      "tensor([9.6413e-10, 2.0568e-09], grad_fn=<MvBackward0>)\n",
      "tensor([9.0853e-10, 1.9382e-09], grad_fn=<MvBackward0>)\n",
      "tensor([8.5293e-10, 1.8196e-09], grad_fn=<MvBackward0>)\n",
      "tensor([8.0641e-10, 1.7203e-09], grad_fn=<MvBackward0>)\n",
      "tensor([8.2921e-10, 1.7690e-09], grad_fn=<MvBackward0>)\n",
      "tensor([8.7190e-10, 1.8601e-09], grad_fn=<MvBackward0>)\n",
      "tensor([9.0385e-10, 1.9282e-09], grad_fn=<MvBackward0>)\n",
      "tensor([8.4783e-10, 1.8087e-09], grad_fn=<MvBackward0>)\n",
      "tensor([8.0991e-10, 1.7278e-09], grad_fn=<MvBackward0>)\n",
      "tensor([7.5717e-10, 1.6153e-09], grad_fn=<MvBackward0>)\n",
      "tensor([9.3220e-10, 1.9887e-09], grad_fn=<MvBackward0>)\n",
      "tensor([8.8675e-10, 1.8917e-09], grad_fn=<MvBackward0>)\n",
      "tensor([8.4739e-10, 1.8078e-09], grad_fn=<MvBackward0>)\n",
      "tensor([8.0321e-10, 1.7135e-09], grad_fn=<MvBackward0>)\n",
      "tensor([8.3813e-10, 1.7880e-09], grad_fn=<MvBackward0>)\n",
      "tensor([8.8961e-10, 1.8978e-09], grad_fn=<MvBackward0>)\n",
      "tensor([8.8716e-10, 1.8926e-09], grad_fn=<MvBackward0>)\n",
      "tensor([8.1432e-10, 1.7372e-09], grad_fn=<MvBackward0>)\n",
      "tensor([7.4148e-10, 1.5818e-09], grad_fn=<MvBackward0>)\n",
      "tensor([7.4784e-10, 1.5954e-09], grad_fn=<MvBackward0>)\n",
      "tensor([8.9814e-10, 1.9160e-09], grad_fn=<MvBackward0>)\n",
      "tensor([8.6278e-10, 1.8406e-09], grad_fn=<MvBackward0>)\n",
      "tensor([8.2741e-10, 1.7652e-09], grad_fn=<MvBackward0>)\n",
      "tensor([7.9205e-10, 1.6897e-09], grad_fn=<MvBackward0>)\n",
      "tensor([8.4426e-10, 1.8011e-09], grad_fn=<MvBackward0>)\n",
      "tensor([8.9998e-10, 1.9199e-09], grad_fn=<MvBackward0>)\n",
      "tensor([8.7047e-10, 1.8570e-09], grad_fn=<MvBackward0>)\n",
      "tensor([7.9763e-10, 1.7016e-09], grad_fn=<MvBackward0>)\n",
      "tensor([7.7621e-10, 1.6559e-09], grad_fn=<MvBackward0>)\n",
      "tensor([7.4730e-10, 1.5942e-09], grad_fn=<MvBackward0>)\n",
      "tensor([8.7417e-10, 1.8649e-09], grad_fn=<MvBackward0>)\n",
      "tensor([8.3881e-10, 1.7895e-09], grad_fn=<MvBackward0>)\n",
      "tensor([8.0345e-10, 1.7140e-09], grad_fn=<MvBackward0>)\n",
      "tensor([7.6808e-10, 1.6386e-09], grad_fn=<MvBackward0>)\n",
      "tensor([8.3048e-10, 1.7717e-09], grad_fn=<MvBackward0>)\n",
      "tensor([8.9500e-10, 1.9093e-09], grad_fn=<MvBackward0>)\n",
      "tensor([8.4258e-10, 1.7975e-09], grad_fn=<MvBackward0>)\n",
      "tensor([8.3057e-10, 1.7719e-09], grad_fn=<MvBackward0>)\n",
      "tensor([7.8377e-10, 1.6720e-09], grad_fn=<MvBackward0>)\n",
      "tensor([7.3112e-10, 1.5597e-09], grad_fn=<MvBackward0>)\n",
      "tensor([8.5021e-10, 1.8138e-09], grad_fn=<MvBackward0>)\n",
      "tensor([8.1484e-10, 1.7383e-09], grad_fn=<MvBackward0>)\n",
      "tensor([7.7948e-10, 1.6629e-09], grad_fn=<MvBackward0>)\n",
      "tensor([7.5132e-10, 1.6028e-09], grad_fn=<MvBackward0>)\n",
      "tensor([8.1584e-10, 1.7405e-09], grad_fn=<MvBackward0>)\n",
      "tensor([8.4855e-10, 1.8102e-09], grad_fn=<MvBackward0>)\n",
      "tensor([8.2116e-10, 1.7518e-09], grad_fn=<MvBackward0>)\n",
      "tensor([7.9369e-10, 1.6932e-09], grad_fn=<MvBackward0>)\n",
      "tensor([7.5853e-10, 1.6182e-09], grad_fn=<MvBackward0>)\n",
      "tensor([7.0971e-10, 1.5140e-09], grad_fn=<MvBackward0>)\n"
     ]
    },
    {
     "data": {
      "image/png": "[encoded data removed]",
      "text/plain": [
       "<Figure size 432x288 with 1 Axes>"
      ]
     },
     "metadata": {
      "needs_background": "light"
     },
     "output_type": "display_data"
    }
   ],
   "source": [
    "fig, ax = plt.subplots()\n",
    "\n",
    "radius = 0.25\n",
    "\n",
    "equi_vf_plot(equivec, graph, ax, radius = radius)\n",
    "\n",
    "plot_chain(chain, ax)\n",
    "\n",
    "# make axis limits from -radius to radius\n",
    "plt.xlim(-radius,radius)\n",
    "plt.ylim(-radius,radius)\n",
    "\n",
    "plt.show()"
   ]
  },
  {
   "cell_type": "code",
   "execution_count": 27,
   "metadata": {},
   "outputs": [
    {
     "name": "stdout",
     "output_type": "stream",
     "text": [
      "tensor([0., 0.], grad_fn=<MvBackward0>)\n",
      "tensor([0., 0.], grad_fn=<MvBackward0>)\n",
      "tensor([0., 0.], grad_fn=<MvBackward0>)\n",
      "tensor([0., 0.], grad_fn=<MvBackward0>)\n",
      "tensor([0., 0.], grad_fn=<MvBackward0>)\n",
      "tensor([0., 0.], grad_fn=<MvBackward0>)\n",
      "tensor([0., 0.], grad_fn=<MvBackward0>)\n",
      "tensor([0., 0.], grad_fn=<MvBackward0>)\n",
      "tensor([0., 0.], grad_fn=<MvBackward0>)\n",
      "tensor([0., 0.], grad_fn=<MvBackward0>)\n",
      "tensor([0., 0.], grad_fn=<MvBackward0>)\n",
      "tensor([0., 0.], grad_fn=<MvBackward0>)\n",
      "tensor([0., 0.], grad_fn=<MvBackward0>)\n",
      "tensor([0., 0.], grad_fn=<MvBackward0>)\n",
      "tensor([0., 0.], grad_fn=<MvBackward0>)\n",
      "tensor([0., 0.], grad_fn=<MvBackward0>)\n",
      "tensor([0., 0.], grad_fn=<MvBackward0>)\n",
      "tensor([0., 0.], grad_fn=<MvBackward0>)\n",
      "tensor([0., 0.], grad_fn=<MvBackward0>)\n",
      "tensor([0., 0.], grad_fn=<MvBackward0>)\n",
      "tensor([0., 0.], grad_fn=<MvBackward0>)\n",
      "tensor([0., 0.], grad_fn=<MvBackward0>)\n",
      "tensor([0., 0.], grad_fn=<MvBackward0>)\n",
      "tensor([0., 0.], grad_fn=<MvBackward0>)\n",
      "tensor([0., 0.], grad_fn=<MvBackward0>)\n",
      "tensor([0., 0.], grad_fn=<MvBackward0>)\n",
      "tensor([0., 0.], grad_fn=<MvBackward0>)\n",
      "tensor([0., 0.], grad_fn=<MvBackward0>)\n",
      "tensor([0., 0.], grad_fn=<MvBackward0>)\n",
      "tensor([0., 0.], grad_fn=<MvBackward0>)\n",
      "tensor([0., 0.], grad_fn=<MvBackward0>)\n",
      "tensor([0., 0.], grad_fn=<MvBackward0>)\n",
      "tensor([0., 0.], grad_fn=<MvBackward0>)\n",
      "tensor([0., 0.], grad_fn=<MvBackward0>)\n",
      "tensor([0., 0.], grad_fn=<MvBackward0>)\n",
      "tensor([0., 0.], grad_fn=<MvBackward0>)\n",
      "tensor([0., 0.], grad_fn=<MvBackward0>)\n",
      "tensor([0., 0.], grad_fn=<MvBackward0>)\n",
      "tensor([0., 0.], grad_fn=<MvBackward0>)\n",
      "tensor([0., 0.], grad_fn=<MvBackward0>)\n",
      "tensor([0., 0.], grad_fn=<MvBackward0>)\n",
      "tensor([0., 0.], grad_fn=<MvBackward0>)\n",
      "tensor([0., 0.], grad_fn=<MvBackward0>)\n",
      "tensor([0., 0.], grad_fn=<MvBackward0>)\n",
      "tensor([0., 0.], grad_fn=<MvBackward0>)\n",
      "tensor([0., 0.], grad_fn=<MvBackward0>)\n",
      "tensor([0., 0.], grad_fn=<MvBackward0>)\n",
      "tensor([0., 0.], grad_fn=<MvBackward0>)\n",
      "tensor([0., 0.], grad_fn=<MvBackward0>)\n",
      "tensor([0., 0.], grad_fn=<MvBackward0>)\n",
      "tensor([0., 0.], grad_fn=<MvBackward0>)\n",
      "tensor([0., 0.], grad_fn=<MvBackward0>)\n",
      "tensor([0., 0.], grad_fn=<MvBackward0>)\n",
      "tensor([0., 0.], grad_fn=<MvBackward0>)\n",
      "tensor([0., 0.], grad_fn=<MvBackward0>)\n",
      "tensor([0., 0.], grad_fn=<MvBackward0>)\n",
      "tensor([0., 0.], grad_fn=<MvBackward0>)\n",
      "tensor([0., 0.], grad_fn=<MvBackward0>)\n",
      "tensor([0., 0.], grad_fn=<MvBackward0>)\n",
      "tensor([0., 0.], grad_fn=<MvBackward0>)\n",
      "tensor([0., 0.], grad_fn=<MvBackward0>)\n",
      "tensor([0., 0.], grad_fn=<MvBackward0>)\n",
      "tensor([0., 0.], grad_fn=<MvBackward0>)\n",
      "tensor([0., 0.], grad_fn=<MvBackward0>)\n",
      "tensor([0., 0.], grad_fn=<MvBackward0>)\n",
      "tensor([0., 0.], grad_fn=<MvBackward0>)\n",
      "tensor([0., 0.], grad_fn=<MvBackward0>)\n",
      "tensor([0., 0.], grad_fn=<MvBackward0>)\n",
      "tensor([0., 0.], grad_fn=<MvBackward0>)\n",
      "tensor([0., 0.], grad_fn=<MvBackward0>)\n",
      "tensor([0., 0.], grad_fn=<MvBackward0>)\n",
      "tensor([0., 0.], grad_fn=<MvBackward0>)\n",
      "tensor([0., 0.], grad_fn=<MvBackward0>)\n",
      "tensor([0., 0.], grad_fn=<MvBackward0>)\n",
      "tensor([0., 0.], grad_fn=<MvBackward0>)\n",
      "tensor([0., 0.], grad_fn=<MvBackward0>)\n",
      "tensor([0., 0.], grad_fn=<MvBackward0>)\n",
      "tensor([0., 0.], grad_fn=<MvBackward0>)\n",
      "tensor([0., 0.], grad_fn=<MvBackward0>)\n",
      "tensor([0., 0.], grad_fn=<MvBackward0>)\n",
      "tensor([0., 0.], grad_fn=<MvBackward0>)\n",
      "tensor([0., 0.], grad_fn=<MvBackward0>)\n",
      "tensor([0., 0.], grad_fn=<MvBackward0>)\n",
      "tensor([0., 0.], grad_fn=<MvBackward0>)\n",
      "tensor([0., 0.], grad_fn=<MvBackward0>)\n",
      "tensor([0., 0.], grad_fn=<MvBackward0>)\n",
      "tensor([0., 0.], grad_fn=<MvBackward0>)\n",
      "tensor([0., 0.], grad_fn=<MvBackward0>)\n",
      "tensor([0., 0.], grad_fn=<MvBackward0>)\n",
      "tensor([0., 0.], grad_fn=<MvBackward0>)\n",
      "tensor([0., 0.], grad_fn=<MvBackward0>)\n",
      "tensor([0., 0.], grad_fn=<MvBackward0>)\n",
      "tensor([0., 0.], grad_fn=<MvBackward0>)\n",
      "tensor([0., 0.], grad_fn=<MvBackward0>)\n",
      "tensor([0., 0.], grad_fn=<MvBackward0>)\n",
      "tensor([0., 0.], grad_fn=<MvBackward0>)\n",
      "tensor([0., 0.], grad_fn=<MvBackward0>)\n",
      "tensor([0., 0.], grad_fn=<MvBackward0>)\n",
      "tensor([0., 0.], grad_fn=<MvBackward0>)\n",
      "tensor([0., 0.], grad_fn=<MvBackward0>)\n"
     ]
    },
    {
     "name": "stderr",
     "output_type": "stream",
     "text": [
      "/Users/maggs/miniconda3/envs/cochainrl/lib/python3.11/site-packages/matplotlib/quiver.py:646: RuntimeWarning: divide by zero encountered in scalar divide\n",
      "  length = a * (widthu_per_lenu / (self.scale * self.width))\n",
      "/Users/maggs/miniconda3/envs/cochainrl/lib/python3.11/site-packages/matplotlib/quiver.py:646: RuntimeWarning: invalid value encountered in multiply\n",
      "  length = a * (widthu_per_lenu / (self.scale * self.width))\n"
     ]
    },
    {
     "data": {
      "image/png": "[encoded data removed]",
      "text/plain": [
       "<Figure size 432x288 with 1 Axes>"
      ]
     },
     "metadata": {
      "needs_background": "light"
     },
     "output_type": "display_data"
    }
   ],
   "source": [
    "fig, ax = plt.subplots()\n",
    "\n",
    "radius = 0.25\n",
    "\n",
    "equi_vf_plot(equivec, graph2, ax, radius = radius)\n",
    "\n",
    "plot_chain(chain, ax)\n",
    "\n",
    "# make axis limits from -radius to radius\n",
    "plt.xlim(-radius,radius)\n",
    "plt.ylim(-radius,radius)\n",
    "\n",
    "plt.show()"
   ]
  },
  {
   "cell_type": "code",
   "execution_count": 28,
   "metadata": {},
   "outputs": [],
   "source": [
    "def transpose(chain, trans, radius):\n",
    "\n",
    "    multis = []\n",
    "    transposed_chains = []\n",
    "\n",
    "    for i in range(len(trans)):\n",
    "\n",
    "        c = chain - trans[i]\n",
    "        c = restrict_chain(c, radius)\n",
    "\n",
    "        transposed_chains.append(c)\n",
    "\n",
    "        if c.shape[0] > 0:\n",
    "\n",
    "            multi = torch.zeros((len(trans),c.shape[0]))\n",
    "\n",
    "            multi[i,:] = torch.ones(c.shape[0])\n",
    "\n",
    "            multis.append(multi)\n",
    "            \n",
    "    multis = torch.cat(multis, axis = 1)\n",
    "\n",
    "    transposed_chains = torch.cat(transposed_chains, axis = 0)\n",
    "\n",
    "    return multis, transposed_chains\n"
   ]
  },
  {
   "cell_type": "code",
   "execution_count": 29,
   "metadata": {},
   "outputs": [],
   "source": [
    "# stack a chain with all of its translations\n",
    "translations = create_grid(20)\n",
    "\n",
    "radius = 0.15\n",
    "\n",
    "multis = []\n",
    "transposed_chains = []\n",
    "\n",
    "for i in range(len(trans)):\n",
    "\n",
    "    c = chain - trans[i]\n",
    "    c = restrict_chain(c, radius)\n",
    "\n",
    "    transposed_chains.append(c)\n",
    "\n",
    "    if c.shape[0] > 0:\n",
    "\n",
    "        multi = torch.zeros((len(trans),c.shape[0]))\n",
    "\n",
    "        multi[i,:] = torch.ones(c.shape[0])\n",
    "\n",
    "        multis.append(multi)"
   ]
  },
  {
   "cell_type": "code",
   "execution_count": 30,
   "metadata": {},
   "outputs": [
    {
     "ename": "RuntimeError",
     "evalue": "torch.cat(): expected a non-empty list of Tensors",
     "output_type": "error",
     "traceback": [
      "\u001b[0;31m---------------------------------------------------------------------------\u001b[0m",
      "\u001b[0;31mRuntimeError\u001b[0m                              Traceback (most recent call last)",
      "Cell \u001b[0;32mIn[30], line 1\u001b[0m\n\u001b[0;32m----> 1\u001b[0m transpose(chain,radius \u001b[39m=\u001b[39m \u001b[39m0.15\u001b[39m, trans \u001b[39m=\u001b[39m trans)\n",
      "Cell \u001b[0;32mIn[28], line 21\u001b[0m, in \u001b[0;36mtranspose\u001b[0;34m(chain, trans, radius)\u001b[0m\n\u001b[1;32m     17\u001b[0m         multi[i,:] \u001b[39m=\u001b[39m torch\u001b[39m.\u001b[39mones(c\u001b[39m.\u001b[39mshape[\u001b[39m0\u001b[39m])\n\u001b[1;32m     19\u001b[0m         multis\u001b[39m.\u001b[39mappend(multi)\n\u001b[0;32m---> 21\u001b[0m multis \u001b[39m=\u001b[39m torch\u001b[39m.\u001b[39mcat(multis, axis \u001b[39m=\u001b[39m \u001b[39m1\u001b[39m)\n\u001b[1;32m     23\u001b[0m transposed_chains \u001b[39m=\u001b[39m torch\u001b[39m.\u001b[39mcat(transposed_chains, axis \u001b[39m=\u001b[39m \u001b[39m0\u001b[39m)\n\u001b[1;32m     25\u001b[0m \u001b[39mreturn\u001b[39;00m multis, transposed_chains\n",
      "\u001b[0;31mRuntimeError\u001b[0m: torch.cat(): expected a non-empty list of Tensors"
     ]
    }
   ],
   "source": [
    "transpose(chain,radius = 0.15, trans = trans)"
   ]
  },
  {
   "cell_type": "code",
   "execution_count": 31,
   "metadata": {},
   "outputs": [],
   "source": [
    "# concatenate transposed chains along dimension 0\n",
    "\n",
    "full_chains = torch.cat(transposed_chains, dim = 0)"
   ]
  },
  {
   "cell_type": "code",
   "execution_count": 32,
   "metadata": {},
   "outputs": [
    {
     "ename": "RuntimeError",
     "evalue": "torch.cat(): expected a non-empty list of Tensors",
     "output_type": "error",
     "traceback": [
      "\u001b[0;31m---------------------------------------------------------------------------\u001b[0m",
      "\u001b[0;31mRuntimeError\u001b[0m                              Traceback (most recent call last)",
      "Cell \u001b[0;32mIn[32], line 1\u001b[0m\n\u001b[0;32m----> 1\u001b[0m full_multis \u001b[39m=\u001b[39m torch\u001b[39m.\u001b[39mcat(multis, dim \u001b[39m=\u001b[39m \u001b[39m1\u001b[39m)\n",
      "\u001b[0;31mRuntimeError\u001b[0m: torch.cat(): expected a non-empty list of Tensors"
     ]
    }
   ],
   "source": [
    "full_multis = torch.cat(multis, dim = 1)"
   ]
  },
  {
   "cell_type": "code",
   "execution_count": 33,
   "metadata": {},
   "outputs": [
    {
     "ename": "NameError",
     "evalue": "name 'vf' is not defined",
     "output_type": "error",
     "traceback": [
      "\u001b[0;31m---------------------------------------------------------------------------\u001b[0m",
      "\u001b[0;31mNameError\u001b[0m                                 Traceback (most recent call last)",
      "Cell \u001b[0;32mIn[33], line 1\u001b[0m\n\u001b[0;32m----> 1\u001b[0m Z \u001b[39m=\u001b[39m gen_CDM2(vf, full_chains)\n",
      "\u001b[0;31mNameError\u001b[0m: name 'vf' is not defined"
     ]
    }
   ],
   "source": [
    "Z = gen_CDM2(vf, full_chains)"
   ]
  },
  {
   "cell_type": "code",
   "execution_count": 34,
   "metadata": {},
   "outputs": [
    {
     "ename": "NameError",
     "evalue": "name 'full_multis' is not defined",
     "output_type": "error",
     "traceback": [
      "\u001b[0;31m---------------------------------------------------------------------------\u001b[0m",
      "\u001b[0;31mNameError\u001b[0m                                 Traceback (most recent call last)",
      "Cell \u001b[0;32mIn[34], line 1\u001b[0m\n\u001b[0;32m----> 1\u001b[0m integrals \u001b[39m=\u001b[39m full_multis \u001b[39m@\u001b[39m torch\u001b[39m.\u001b[39mabs(Z)\n",
      "\u001b[0;31mNameError\u001b[0m: name 'full_multis' is not defined"
     ]
    }
   ],
   "source": [
    "integrals = full_multis @ torch.abs(Z)"
   ]
  },
  {
   "cell_type": "code",
   "execution_count": 35,
   "metadata": {},
   "outputs": [
    {
     "ename": "NameError",
     "evalue": "name 'integrals' is not defined",
     "output_type": "error",
     "traceback": [
      "\u001b[0;31m---------------------------------------------------------------------------\u001b[0m",
      "\u001b[0;31mNameError\u001b[0m                                 Traceback (most recent call last)",
      "Cell \u001b[0;32mIn[35], line 1\u001b[0m\n\u001b[0;32m----> 1\u001b[0m integrals\u001b[39m.\u001b[39mshape\n",
      "\u001b[0;31mNameError\u001b[0m: name 'integrals' is not defined"
     ]
    }
   ],
   "source": [
    "integrals.shape"
   ]
  },
  {
   "cell_type": "code",
   "execution_count": 36,
   "metadata": {},
   "outputs": [
    {
     "ename": "NameError",
     "evalue": "name 'integrals' is not defined",
     "output_type": "error",
     "traceback": [
      "\u001b[0;31m---------------------------------------------------------------------------\u001b[0m",
      "\u001b[0;31mNameError\u001b[0m                                 Traceback (most recent call last)",
      "Cell \u001b[0;32mIn[36], line 2\u001b[0m\n\u001b[1;32m      1\u001b[0m \u001b[39m3\u001b[39m \u001b[39m# turn integrals into numpy array\u001b[39;00m\n\u001b[0;32m----> 2\u001b[0m integrals \u001b[39m=\u001b[39m integrals\u001b[39m.\u001b[39mdetach()\u001b[39m.\u001b[39mnumpy()\n",
      "\u001b[0;31mNameError\u001b[0m: name 'integrals' is not defined"
     ]
    }
   ],
   "source": [
    "3 # turn integrals into numpy array\n",
    "integrals = integrals.detach().numpy()"
   ]
  },
  {
   "cell_type": "code",
   "execution_count": 37,
   "metadata": {},
   "outputs": [
    {
     "ename": "NameError",
     "evalue": "name 'integrals' is not defined",
     "output_type": "error",
     "traceback": [
      "\u001b[0;31m---------------------------------------------------------------------------\u001b[0m",
      "\u001b[0;31mNameError\u001b[0m                                 Traceback (most recent call last)",
      "Cell \u001b[0;32mIn[37], line 4\u001b[0m\n\u001b[1;32m      1\u001b[0m fig, ax \u001b[39m=\u001b[39m plt\u001b[39m.\u001b[39msubplots(\u001b[39m1\u001b[39m,\u001b[39m2\u001b[39m)\n\u001b[1;32m      3\u001b[0m \u001b[39m# calculate argmax of integrals\u001b[39;00m\n\u001b[0;32m----> 4\u001b[0m index \u001b[39m=\u001b[39m np\u001b[39m.\u001b[39margmax(integrals)\n\u001b[1;32m      6\u001b[0m best \u001b[39m=\u001b[39m np\u001b[39m.\u001b[39marray(trans[index])\n\u001b[1;32m      9\u001b[0m \u001b[39m# draw a box corners at best plus-minus radius\u001b[39;00m\n",
      "\u001b[0;31mNameError\u001b[0m: name 'integrals' is not defined"
     ]
    },
    {
     "data": {
      "image/png": "[encoded data removed]",
      "text/plain": [
       "<Figure size 432x288 with 2 Axes>"
      ]
     },
     "metadata": {
      "needs_background": "light"
     },
     "output_type": "display_data"
    }
   ],
   "source": [
    "fig, ax = plt.subplots(1,2)\n",
    "\n",
    "# calculate argmax of integrals\n",
    "index = np.argmax(integrals)\n",
    "\n",
    "best = np.array(trans[index])\n",
    "\n",
    "\n",
    "# draw a box corners at best plus-minus radius\n",
    "ax[0].plot([-radius+best[0],radius+best[0],radius+best[0],-radius+best[0],-radius+best[0]],[-radius+best[1],-radius+best[1],radius+best[1],radius+best[1],-radius+best[1]], color = 'black', alpha = 0.7)\n",
    "\n",
    "\n",
    "ax[0].scatter(trans[:,0], translations[:,1], c = integrals, cmap = 'coolwarm')\n",
    "\n",
    "\n",
    "plot_chain(chain, ax[0])\n",
    "\n",
    "\n",
    "simple_vf_plot(vf, ax[1], radius = radius)\n",
    "\n",
    "# make plot bigger\n",
    "fig.set_size_inches(18.5/2, 10.5/2)\n",
    "\n",
    "\n",
    "# add a colorbar\n",
    "plt.show()"
   ]
  },
  {
   "cell_type": "markdown",
   "metadata": {},
   "source": [
    "### Create aggregated transpositions"
   ]
  },
  {
   "cell_type": "code",
   "execution_count": 40,
   "metadata": {},
   "outputs": [
    {
     "ename": "RuntimeError",
     "evalue": "torch.cat(): expected a non-empty list of Tensors",
     "output_type": "error",
     "traceback": [
      "\u001b[0;31m---------------------------------------------------------------------------\u001b[0m",
      "\u001b[0;31mRuntimeError\u001b[0m                              Traceback (most recent call last)",
      "Cell \u001b[0;32mIn[40], line 8\u001b[0m\n\u001b[1;32m      5\u001b[0m transposed_chains \u001b[39m=\u001b[39m []\n\u001b[1;32m      7\u001b[0m \u001b[39mfor\u001b[39;00m elem \u001b[39min\u001b[39;00m chains:\n\u001b[0;32m----> 8\u001b[0m     m, t \u001b[39m=\u001b[39m transpose(elem, radius\u001b[39m=\u001b[39mradius, trans\u001b[39m=\u001b[39mtrans)\n\u001b[1;32m      9\u001b[0m     multis\u001b[39m.\u001b[39mappend(m)\n\u001b[1;32m     10\u001b[0m     transposed_chains\u001b[39m.\u001b[39mappend(t)\n",
      "Cell \u001b[0;32mIn[28], line 21\u001b[0m, in \u001b[0;36mtranspose\u001b[0;34m(chain, trans, radius)\u001b[0m\n\u001b[1;32m     17\u001b[0m         multi[i,:] \u001b[39m=\u001b[39m torch\u001b[39m.\u001b[39mones(c\u001b[39m.\u001b[39mshape[\u001b[39m0\u001b[39m])\n\u001b[1;32m     19\u001b[0m         multis\u001b[39m.\u001b[39mappend(multi)\n\u001b[0;32m---> 21\u001b[0m multis \u001b[39m=\u001b[39m torch\u001b[39m.\u001b[39mcat(multis, axis \u001b[39m=\u001b[39m \u001b[39m1\u001b[39m)\n\u001b[1;32m     23\u001b[0m transposed_chains \u001b[39m=\u001b[39m torch\u001b[39m.\u001b[39mcat(transposed_chains, axis \u001b[39m=\u001b[39m \u001b[39m0\u001b[39m)\n\u001b[1;32m     25\u001b[0m \u001b[39mreturn\u001b[39;00m multis, transposed_chains\n",
      "\u001b[0;31mRuntimeError\u001b[0m: torch.cat(): expected a non-empty list of Tensors"
     ]
    }
   ],
   "source": [
    "trans = create_grid(20)\n",
    "radius = 0.23\n",
    "\n",
    "multis = []\n",
    "transposed_chains = []\n",
    "\n",
    "for elem in chains:\n",
    "    m, t = transpose(elem, radius=radius, trans=trans)\n",
    "    multis.append(m)\n",
    "    transposed_chains.append(t)"
   ]
  },
  {
   "cell_type": "code",
   "execution_count": 59,
   "metadata": {},
   "outputs": [
    {
     "data": {
      "text/plain": [
       "tensor([[[ 0.4033,  0.0000],\n",
       "         [ 0.2964,  0.0723]],\n",
       "\n",
       "        [[ 0.2299,  0.1774],\n",
       "         [ 0.2964,  0.0723]],\n",
       "\n",
       "        [[ 0.4033,  0.0000],\n",
       "         [ 0.2964,  0.0723]],\n",
       "\n",
       "        ...,\n",
       "\n",
       "        [[-0.1338, -0.1766],\n",
       "         [-0.2609, -0.1110]],\n",
       "\n",
       "        [[-0.1338, -0.1766],\n",
       "         [-0.0915, -0.2809]],\n",
       "\n",
       "        [[-0.1338, -0.1766],\n",
       "         [-0.2609, -0.1110]]])"
      ]
     },
     "execution_count": 59,
     "metadata": {},
     "output_type": "execute_result"
    }
   ],
   "source": [
    "transposed_chains[0]"
   ]
  },
  {
   "cell_type": "markdown",
   "metadata": {},
   "source": [
    "# Calculate density\n"
   ]
  },
  {
   "cell_type": "code",
   "execution_count": null,
   "metadata": {},
   "outputs": [],
   "source": []
  },
  {
   "cell_type": "code",
   "execution_count": 60,
   "metadata": {},
   "outputs": [],
   "source": [
    "import torch.nn.functional as F\n",
    "import torch.optim as optim\n",
    "from scipy.stats import multivariate_normal\n",
    "from sklearn.neighbors import KernelDensity\n",
    "\n",
    "densities = []\n",
    "\n",
    "# calculate the density of each of the nodes of each graph\n",
    "# at each of the points in the grid of tranlsations.\n",
    "for i in range(len(global_positions)):\n",
    "\n",
    "    # get the positions of the nodes of the graph\n",
    "    points = global_positions[i].values()\n",
    "\n",
    "    # convert points to numpy array\n",
    "    points = np.array(list(points))\n",
    "\n",
    "    # estimate density of the points\n",
    "    kde = KernelDensity(kernel='gaussian', bandwidth=0.2).fit(points)\n",
    "\n",
    "    # evaluate the density at each point in the grid\n",
    "    Z = np.exp(kde.score_samples(trans))\n",
    "\n",
    "    # append the density to the list of densities\n",
    "    densities.append(torch.tensor(Z))"
   ]
  },
  {
   "cell_type": "code",
   "execution_count": null,
   "metadata": {},
   "outputs": [],
   "source": [
    "# plot densities 0 over the grid\n",
    "fig, ax = plt.subplots()\n",
    "\n",
    "ax.scatter()"
   ]
  },
  {
   "cell_type": "markdown",
   "metadata": {},
   "source": [
    "# Learning"
   ]
  },
  {
   "cell_type": "code",
   "execution_count": 53,
   "metadata": {},
   "outputs": [],
   "source": [
    "# initialise a single hidden layer neural 1-form with two output feature 1-forms\n",
    "\n",
    "vf = nn.Sequential(\n",
    "    nn.Linear(2, 64),\n",
    "    nn.ReLU(),\n",
    "    nn.Linear(64, 2*2)\n",
    ")"
   ]
  },
  {
   "cell_type": "code",
   "execution_count": 54,
   "metadata": {},
   "outputs": [],
   "source": [
    "import torch.optim as optim\n",
    "\n",
    "# create your optimizer\n",
    "optimizer = optim.SGD(vf.parameters(), lr=1.5*1e-3)\n",
    "\n",
    "# initialise a mean squared error loss function\n",
    "criterion = nn.MSELoss()"
   ]
  },
  {
   "cell_type": "code",
   "execution_count": 55,
   "metadata": {},
   "outputs": [],
   "source": [
    "# function for randomizing batches\n",
    "def permute_list(l, p):\n",
    "    \"\"\"\n",
    "    A function for permuting a list\n",
    "\n",
    "    Parameters\n",
    "    ----------\n",
    "    l : list\n",
    "        The list to be permuted\n",
    "\n",
    "    p : list\n",
    "        The permutation\n",
    "    \n",
    "    Returns\n",
    "    -------\n",
    "    out : list\n",
    "        The permuted list\n",
    "    \"\"\"\n",
    "\n",
    "    out = [l[i] for i in p]\n",
    "\n",
    "    return out"
   ]
  },
  {
   "cell_type": "code",
   "execution_count": 56,
   "metadata": {},
   "outputs": [],
   "source": [
    "# change element type in densities to flloat\n",
    "for i in range(len(densities)):\n",
    "\n",
    "    densities[i] = densities[i].float()\n",
    "\n"
   ]
  },
  {
   "cell_type": "code",
   "execution_count": 57,
   "metadata": {},
   "outputs": [
    {
     "name": "stderr",
     "output_type": "stream",
     "text": [
      "/var/folders/hz/4pywr0zn1y34rhzrg6_ntgs80000gq/T/ipykernel_25105/3510873685.py:31: UserWarning: To copy construct from a tensor, it is recommended to use sourceTensor.clone().detach() or sourceTensor.clone().detach().requires_grad_(True), rather than torch.tensor(sourceTensor).\n",
      "  l = torch.tensor(l)\n"
     ]
    },
    {
     "name": "stdout",
     "output_type": "stream",
     "text": [
      "Epoch =  0 Loss =  tensor(0.2819)\n",
      "Correct:  106\n",
      "Epoch =  1 Loss =  tensor(0.2799)\n",
      "Correct:  101\n"
     ]
    },
    {
     "ename": "KeyboardInterrupt",
     "evalue": "",
     "output_type": "error",
     "traceback": [
      "\u001b[0;31m---------------------------------------------------------------------------\u001b[0m",
      "\u001b[0;31mKeyboardInterrupt\u001b[0m                         Traceback (most recent call last)",
      "Cell \u001b[0;32mIn[57], line 52\u001b[0m\n\u001b[1;32m     48\u001b[0m loss \u001b[39m=\u001b[39m criterion(sm,l\u001b[39m.\u001b[39mfloat())\n\u001b[1;32m     50\u001b[0m losses[i,j] \u001b[39m=\u001b[39m loss\u001b[39m.\u001b[39mdetach()\n\u001b[0;32m---> 52\u001b[0m loss\u001b[39m.\u001b[39mbackward()\n\u001b[1;32m     54\u001b[0m \u001b[39m# for some reason it works better doing the backprop/gradient step after each path\u001b[39;00m\n\u001b[1;32m     56\u001b[0m optimizer\u001b[39m.\u001b[39mstep()\n",
      "File \u001b[0;32m~/miniconda3/envs/cochainrl/lib/python3.11/site-packages/torch/_tensor.py:487\u001b[0m, in \u001b[0;36mTensor.backward\u001b[0;34m(self, gradient, retain_graph, create_graph, inputs)\u001b[0m\n\u001b[1;32m    477\u001b[0m \u001b[39mif\u001b[39;00m has_torch_function_unary(\u001b[39mself\u001b[39m):\n\u001b[1;32m    478\u001b[0m     \u001b[39mreturn\u001b[39;00m handle_torch_function(\n\u001b[1;32m    479\u001b[0m         Tensor\u001b[39m.\u001b[39mbackward,\n\u001b[1;32m    480\u001b[0m         (\u001b[39mself\u001b[39m,),\n\u001b[0;32m   (...)\u001b[0m\n\u001b[1;32m    485\u001b[0m         inputs\u001b[39m=\u001b[39minputs,\n\u001b[1;32m    486\u001b[0m     )\n\u001b[0;32m--> 487\u001b[0m torch\u001b[39m.\u001b[39mautograd\u001b[39m.\u001b[39mbackward(\n\u001b[1;32m    488\u001b[0m     \u001b[39mself\u001b[39m, gradient, retain_graph, create_graph, inputs\u001b[39m=\u001b[39minputs\n\u001b[1;32m    489\u001b[0m )\n",
      "File \u001b[0;32m~/miniconda3/envs/cochainrl/lib/python3.11/site-packages/torch/autograd/__init__.py:200\u001b[0m, in \u001b[0;36mbackward\u001b[0;34m(tensors, grad_tensors, retain_graph, create_graph, grad_variables, inputs)\u001b[0m\n\u001b[1;32m    195\u001b[0m     retain_graph \u001b[39m=\u001b[39m create_graph\n\u001b[1;32m    197\u001b[0m \u001b[39m# The reason we repeat same the comment below is that\u001b[39;00m\n\u001b[1;32m    198\u001b[0m \u001b[39m# some Python versions print out the first line of a multi-line function\u001b[39;00m\n\u001b[1;32m    199\u001b[0m \u001b[39m# calls in the traceback and some print out the last line\u001b[39;00m\n\u001b[0;32m--> 200\u001b[0m Variable\u001b[39m.\u001b[39m_execution_engine\u001b[39m.\u001b[39mrun_backward(  \u001b[39m# Calls into the C++ engine to run the backward pass\u001b[39;00m\n\u001b[1;32m    201\u001b[0m     tensors, grad_tensors_, retain_graph, create_graph, inputs,\n\u001b[1;32m    202\u001b[0m     allow_unreachable\u001b[39m=\u001b[39m\u001b[39mTrue\u001b[39;00m, accumulate_grad\u001b[39m=\u001b[39m\u001b[39mTrue\u001b[39;00m)\n",
      "\u001b[0;31mKeyboardInterrupt\u001b[0m: "
     ]
    }
   ],
   "source": [
    "epochs = 10\n",
    "\n",
    "batch_size = 200\n",
    "\n",
    "losses = torch.zeros((batch_size,epochs))\n",
    "\n",
    "\n",
    "for j in range(epochs):\n",
    "\n",
    "    # shuffle the data\n",
    "    perm = torch.randperm(batch_size)\n",
    "\n",
    "    # permute the data\n",
    "    transposed_chains = permute_list(transposed_chains, perm)\n",
    "    multis = permute_list(multis, perm)\n",
    "    labels = permute_list(labels, perm)\n",
    "    chains = permute_list(chains, perm)\n",
    "    densities = permute_list(densities, perm)\n",
    "    \n",
    "\n",
    "    correct = 0\n",
    "        \n",
    "    for i in range(batch_size):\n",
    "\n",
    "        c = transposed_chains[i]\n",
    "\n",
    "        m = multis[i]\n",
    "        \n",
    "        l = labels[i]\n",
    "\n",
    "        l = torch.tensor(l)\n",
    "\n",
    "        X = gen_CDM2(vf, c, d = 5)\n",
    "\n",
    "        p = m @ X\n",
    "\n",
    "        p = torch.abs(p)\n",
    "\n",
    "\n",
    "        total = densities[i] @ p\n",
    "\n",
    "        sm = torch.softmax(total, dim = 0)\n",
    "\n",
    "\n",
    "        if torch.argmax(sm) == torch.argmax(l):\n",
    "            correct += 1\n",
    "             \n",
    "        loss = criterion(sm,l.float())\n",
    "\n",
    "        losses[i,j] = loss.detach()\n",
    "\n",
    "        loss.backward()\n",
    "\n",
    "        # for some reason it works better doing the backprop/gradient step after each path\n",
    "\n",
    "        optimizer.step()\n",
    "\n",
    "        optimizer.zero_grad()\n",
    "\n",
    "        \n",
    "\n",
    "    # clear print statement from previous iteration\n",
    "    # clear_output(wait=True)\n",
    "    \n",
    "    print(\"Epoch = \", j, \"Loss = \", torch.sum(losses[:,j])/batch_size)\n",
    "    print(\"Correct: \", correct)\n",
    "\n"
   ]
  },
  {
   "cell_type": "code",
   "execution_count": 42,
   "metadata": {},
   "outputs": [
    {
     "name": "stdout",
     "output_type": "stream",
     "text": [
      "Average loss =  tensor([45.9386, 39.7773, 36.9221, 34.6805, 32.3285, 29.9556, 28.3840, 26.5021,\n",
      "        24.9080, 23.3171])\n"
     ]
    }
   ],
   "source": [
    "# print average losses of the model\n",
    "print(\"Average loss = \", torch.sum(losses, dim = 0))"
   ]
  },
  {
   "attachments": {},
   "cell_type": "markdown",
   "metadata": {},
   "source": [
    "### Interpreting the Results"
   ]
  },
  {
   "cell_type": "code",
   "execution_count": null,
   "metadata": {},
   "outputs": [],
   "source": []
  },
  {
   "cell_type": "code",
   "execution_count": 49,
   "metadata": {},
   "outputs": [
    {
     "data": {
      "image/png": "[encoded data removed]",
      "text/plain": [
       "<Figure size 666x378 with 2 Axes>"
      ]
     },
     "metadata": {
      "needs_background": "light"
     },
     "output_type": "display_data"
    }
   ],
   "source": [
    "i = 54\n",
    "chain = chains[i]\n",
    "c = transposed_chains[i]\n",
    "m = multis[i]\n",
    "l = labels[i]\n",
    "\n",
    "\n",
    "integrals = m @ torch.abs(gen_CDM2(vf, c, d = 5))\n",
    "\n",
    "integrals.shape\n",
    "\n",
    "integrals = integrals.detach().numpy()\n",
    "# make a copy of densities\n",
    "densities2 = densities.copy()\n",
    "\n",
    "densities2 = densities2[i].detach().numpy()\n",
    "\n",
    "\n",
    "\n",
    "\n",
    "\n",
    "fig, ax = plt.subplots(1,2)\n",
    "\n",
    "\n",
    "\n",
    "ax[0].scatter(trans[:,0], trans[:,1], c = integrals[:,0] * densities2, cmap = 'coolwarm')\n",
    "\n",
    "ax[1].scatter(trans[:,0], trans[:,1], c = integrals[:,1] * densities2, cmap = 'coolwarm')\n",
    "\n",
    "\n",
    "plot_chain(chain, ax[0])\n",
    "\n",
    "plot_chain(chain, ax[1])\n",
    "\n",
    "\n",
    "# simple_vf_plot(vf, ax[1], radius = radius)\n",
    "\n",
    "# make plot bigger\n",
    "fig.set_size_inches(18.5/2, 10.5/2)\n",
    "\n",
    "\n",
    "# add a colorbar\n",
    "plt.show()"
   ]
  },
  {
   "cell_type": "code",
   "execution_count": 47,
   "metadata": {},
   "outputs": [
    {
     "data": {
      "image/png": "[encoded data removed]",
      "text/plain": [
       "<Figure size 666x378 with 2 Axes>"
      ]
     },
     "metadata": {
      "needs_background": "light"
     },
     "output_type": "display_data"
    }
   ],
   "source": [
    "# select a chain\n",
    "i = 60\n",
    "chain = chains[i]\n",
    "\n",
    "# calculate the integrals\n",
    "c = transposed_chains[i]\n",
    "m = multis[i]\n",
    "l = labels[i]\n",
    "integrals = m @ torch.abs(gen_CDM2(vf, c, d = 5))\n",
    "integrals = integrals.detach().numpy()\n",
    "\n",
    "# make a copy of densities\n",
    "densities2 = densities.copy()\n",
    "densities2 = densities2[i].detach().numpy()\n",
    "\n",
    "# plot\n",
    "fig, ax = plt.subplots(1,2)\n",
    "ax[0].scatter(trans[:,0], trans[:,1], c = integrals[:,0] * (densities2**2), cmap = 'coolwarm')\n",
    "ax[1].scatter(trans[:,0], trans[:,1], c = integrals[:,1] * (densities2**2), cmap = 'coolwarm')\n",
    "plot_chain(chain, ax[0])\n",
    "plot_chain(chain, ax[1])\n",
    "\n",
    "# make plot bigger\n",
    "fig.set_size_inches(18.5/2, 10.5/2)\n",
    "\n",
    "\n",
    "# add a colorbar\n",
    "plt.show()"
   ]
  },
  {
   "cell_type": "code",
   "execution_count": 48,
   "metadata": {},
   "outputs": [
    {
     "name": "stderr",
     "output_type": "stream",
     "text": [
      "/var/folders/hz/4pywr0zn1y34rhzrg6_ntgs80000gq/T/ipykernel_25105/839017781.py:29: MatplotlibDeprecationWarning: Auto-removal of overlapping axes is deprecated since 3.6 and will be removed two minor releases later; explicitly call ax.remove() as needed.\n",
      "  ax = plt.subplot(1, 2, i+1)\n"
     ]
    },
    {
     "data": {
      "image/png": "[encoded data removed]",
      "text/plain": [
       "<Figure size 666x378 with 2 Axes>"
      ]
     },
     "metadata": {
      "needs_background": "light"
     },
     "output_type": "display_data"
    }
   ],
   "source": [
    "## plot a vector field given a function f: R^2 -> R^2\n",
    "def plot_component_vf(f, ax, comp = 0, x_range=5, y_range=5):\n",
    "\n",
    "    x = np.linspace(-x_range,x_range,10)\n",
    "    y = np.linspace(-y_range,y_range,10)\n",
    "    X,Y = np.meshgrid(x,y)\n",
    "\n",
    "    X = torch.tensor(X).double()\n",
    "    Y = torch.tensor(Y).double()\n",
    "\n",
    "\n",
    "    U = np.zeros((10,10))\n",
    "    V = np.zeros((10,10))\n",
    "    for i in range(10):\n",
    "        for j in range(10):\n",
    "            inp = np.array([X[i,j],Y[i,j]])\n",
    "            inp = torch.tensor(inp).float()\n",
    "\n",
    "            tv = f.forward(inp).reshape(2,2)\n",
    "\n",
    "            U[i,j] = tv[:,comp][0]\n",
    "            V[i,j] = tv[:,comp][1]\n",
    "    ax.quiver(X,Y,U,V)\n",
    "\n",
    "fig, ax = plt.subplots()\n",
    "\n",
    "# make a figure with 6 subplots arranged in 2 rows and 3 columns\n",
    "for i in range(2):\n",
    "    ax = plt.subplot(1, 2, i+1)\n",
    "    plot_component_vf(vf, ax, comp = i, x_range=radius, y_range=radius)\n",
    "\n",
    "\n",
    "# add a title to the figure\n",
    "fig.suptitle('Final feature vector fields')\n",
    "\n",
    "# make plot bigger\n",
    "fig.set_size_inches(18.5/2, 10.5/2)\n",
    "\n",
    "plt.show()"
   ]
  },
  {
   "cell_type": "markdown",
   "metadata": {},
   "source": [
    "# Molcule Net\n"
   ]
  },
  {
   "cell_type": "code",
   "execution_count": 2,
   "metadata": {},
   "outputs": [],
   "source": [
    "import dgl\n",
    "\n",
    "data = dgl.data.QM9Dataset(label_keys=['mu', 'alpha', 'homo', 'lumo'])\n"
   ]
  },
  {
   "cell_type": "code",
   "execution_count": 3,
   "metadata": {},
   "outputs": [],
   "source": [
    "# plot a nx graph using the edges in graph.edges['uv'] and pos for positions\n",
    "# a function for turning a path into a chain\n",
    "def dgl_to_chain(graph):\n",
    "    \"\"\" \n",
    "    A function for turning a graph into a chain\n",
    "    \"\"\"\n",
    "\n",
    "    # get node features\n",
    "    node_features = graph.ndata['R']\n",
    "\n",
    "    # get edges\n",
    "    u = graph.edges('uv')[0]\n",
    "    v = graph.edges('uv')[1]\n",
    "    edge_index = torch.stack((u,v)).T\n",
    "\n",
    "\n",
    "    # number of 1-simplices\n",
    "    r = edge_index.shape[0]\n",
    "\n",
    "    # embedding dimension\n",
    "    n = node_features.shape[1]\n",
    "\n",
    "    # sort the edge indices\n",
    "    edges = torch.tensor([np.sort([edge_index[i][0],edge_index[i][1]]) for i in range(len(edge_index))])\n",
    "\n",
    "    # initialize chain\n",
    "    ch = torch.zeros((r,2,n))\n",
    "\n",
    "    # turn edges into a 1-chain\n",
    "    for i in range(r):\n",
    "        ch[i,0,:] = node_features[edges[i][0]]\n",
    "        ch[i,1,:] = node_features[edges[i][1]]\n",
    "\n",
    "    return ch"
   ]
  },
  {
   "cell_type": "code",
   "execution_count": 4,
   "metadata": {},
   "outputs": [],
   "source": [
    "def plot_chain3d(chain, ax, dgraph= None, c = None):\n",
    "\n",
    "    for i in range(chain.shape[0]):\n",
    "        ax.plot(chain[i,:,0],chain[i,:,1], chain[i,:,2], c = 'black')\n",
    "        # plot nodes\n",
    "        \n",
    "    if dgraph != None:\n",
    "        \n",
    "        # convert node features to numpy array\n",
    "\n",
    "        \n",
    "        for i in range(len(dgraph.ndata['Z'])):\n",
    "            ax.scatter(dgraph.ndata['R'][i,0],dgraph.ndata['R'][i,1])\n",
    "\n"
   ]
  },
  {
   "cell_type": "code",
   "execution_count": null,
   "metadata": {},
   "outputs": [],
   "source": []
  },
  {
   "cell_type": "code",
   "execution_count": null,
   "metadata": {},
   "outputs": [],
   "source": []
  },
  {
   "cell_type": "code",
   "execution_count": 5,
   "metadata": {},
   "outputs": [
    {
     "name": "stderr",
     "output_type": "stream",
     "text": [
      "/var/folders/hz/4pywr0zn1y34rhzrg6_ntgs80000gq/T/ipykernel_48110/423537565.py:24: UserWarning: Creating a tensor from a list of numpy.ndarrays is extremely slow. Please consider converting the list to a single numpy.ndarray with numpy.array() before converting to a tensor. (Triggered internally at /Users/runner/work/pytorch/pytorch/pytorch/torch/csrc/utils/tensor_new.cpp:248.)\n",
      "  edges = torch.tensor([np.sort([edge_index[i][0],edge_index[i][1]]) for i in range(len(edge_index))])\n"
     ]
    },
    {
     "ename": "NameError",
     "evalue": "name 'plot_chain' is not defined",
     "output_type": "error",
     "traceback": [
      "\u001b[0;31m---------------------------------------------------------------------------\u001b[0m",
      "\u001b[0;31mNameError\u001b[0m                                 Traceback (most recent call last)",
      "Cell \u001b[0;32mIn[5], line 7\u001b[0m\n\u001b[1;32m      3\u001b[0m graph \u001b[39m=\u001b[39m data[\u001b[39m40\u001b[39m][\u001b[39m0\u001b[39m]\n\u001b[1;32m      5\u001b[0m chain \u001b[39m=\u001b[39m dgl_to_chain(graph)\n\u001b[0;32m----> 7\u001b[0m plot_chain(chain, ax, graph)\n\u001b[1;32m      9\u001b[0m plt\u001b[39m.\u001b[39mshow()\n",
      "\u001b[0;31mNameError\u001b[0m: name 'plot_chain' is not defined"
     ]
    },
    {
     "data": {
      "image/png": "[encoded data removed]",
      "text/plain": [
       "<Figure size 432x288 with 1 Axes>"
      ]
     },
     "metadata": {
      "needs_background": "light"
     },
     "output_type": "display_data"
    }
   ],
   "source": [
    "fig, ax = plt.subplots()\n",
    "\n",
    "graph = data[40][0]\n",
    "\n",
    "chain = dgl_to_chain(graph)\n",
    "\n",
    "plot_chain(chain, ax, graph)\n",
    "\n",
    "plt.show()"
   ]
  },
  {
   "cell_type": "code",
   "execution_count": null,
   "metadata": {},
   "outputs": [
    {
     "data": {
      "image/png": "[encoded data removed]",
      "text/plain": [
       "<Figure size 432x288 with 1 Axes>"
      ]
     },
     "metadata": {
      "needs_background": "light"
     },
     "output_type": "display_data"
    }
   ],
   "source": [
    "# plot 3d graph\n",
    "fig = plt.figure()\n",
    "\n",
    "ax = fig.add_subplot(111, projection='3d')\n",
    "\n",
    "graph = data[200][0]\n",
    "\n",
    "chain = dgl_to_chain(graph)\n",
    "\n",
    "plot_chain3d(chain,ax)\n",
    "plt.show()\n",
    "\n"
   ]
  },
  {
   "cell_type": "code",
   "execution_count": 7,
   "metadata": {},
   "outputs": [
    {
     "data": {
      "application/vnd.plotly.v1+json": {
       "config": {
        "plotlyServerURL": "https://plot.ly"
       },
       "data": [
        {
         "marker": {
          "color": [
           6,
           6,
           8,
           6,
           1,
           1,
           1,
           1,
           1,
           1,
           1,
           1
          ],
          "colorscale": [
           [
            0,
            "#440154"
           ],
           [
            0.1111111111111111,
            "#482878"
           ],
           [
            0.2222222222222222,
            "#3e4989"
           ],
           [
            0.3333333333333333,
            "#31688e"
           ],
           [
            0.4444444444444444,
            "#26828e"
           ],
           [
            0.5555555555555556,
            "#1f9e89"
           ],
           [
            0.6666666666666666,
            "#35b779"
           ],
           [
            0.7777777777777778,
            "#6ece58"
           ],
           [
            0.8888888888888888,
            "#b5de2b"
           ],
           [
            1,
            "#fde725"
           ]
          ],
          "opacity": 1,
          "size": 12
         },
         "mode": "markers",
         "showlegend": false,
         "type": "scatter3d",
         "x": [
          -0.005195509176701307,
          0.013165799900889397,
          0.6975894570350647,
          0.7668849229812622,
          1.01445472240448,
          -0.5299086570739746,
          -0.5126376748085022,
          -1.0159950256347656,
          0.5109314322471619,
          -0.23415841162204742,
          1.3012927770614624,
          1.3099029064178467
         ],
         "y": [
          1.5086822509765625,
          -0.01037819217890501,
          -0.463441401720047,
          -1.865081787109375,
          1.904237985610962,
          1.8918405771255493,
          1.8780584335327148,
          -0.40998730063438416,
          -0.3836943507194519,
          -2.324514865875244,
          -2.298536539077759,
          -2.118119955062866
         ],
         "z": [
          0.0330876000225544,
          0.019886434078216553,
          1.1686897277832031,
          1.246026635169983,
          0.029960181564092636,
          -0.8472691178321838,
          0.9287542104721069,
          0.007142823655158281,
          -0.8921939730644226,
          1.2897777557373047,
          0.38486096262931824,
          2.1601321697235107
         ]
        },
        {
         "line": {
          "color": "black",
          "width": 2
         },
         "mode": "lines",
         "showlegend": false,
         "type": "scatter3d",
         "x": [
          -0.005195509176701307,
          0.013165799900889397
         ],
         "y": [
          1.5086822509765625,
          -0.01037819217890501
         ],
         "z": [
          0.0330876000225544,
          0.019886434078216553
         ]
        },
        {
         "line": {
          "color": "black",
          "width": 2
         },
         "mode": "lines",
         "showlegend": false,
         "type": "scatter3d",
         "x": [
          -0.005195509176701307,
          0.6975894570350647
         ],
         "y": [
          1.5086822509765625,
          -0.463441401720047
         ],
         "z": [
          0.0330876000225544,
          1.1686897277832031
         ]
        },
        {
         "line": {
          "color": "black",
          "width": 2
         },
         "mode": "lines",
         "showlegend": false,
         "type": "scatter3d",
         "x": [
          -0.005195509176701307,
          0.7668849229812622
         ],
         "y": [
          1.5086822509765625,
          -1.865081787109375
         ],
         "z": [
          0.0330876000225544,
          1.246026635169983
         ]
        },
        {
         "line": {
          "color": "black",
          "width": 2
         },
         "mode": "lines",
         "showlegend": false,
         "type": "scatter3d",
         "x": [
          -0.005195509176701307,
          1.01445472240448
         ],
         "y": [
          1.5086822509765625,
          1.904237985610962
         ],
         "z": [
          0.0330876000225544,
          0.029960181564092636
         ]
        },
        {
         "line": {
          "color": "black",
          "width": 2
         },
         "mode": "lines",
         "showlegend": false,
         "type": "scatter3d",
         "x": [
          -0.005195509176701307,
          -0.5299086570739746
         ],
         "y": [
          1.5086822509765625,
          1.8918405771255493
         ],
         "z": [
          0.0330876000225544,
          -0.8472691178321838
         ]
        },
        {
         "line": {
          "color": "black",
          "width": 2
         },
         "mode": "lines",
         "showlegend": false,
         "type": "scatter3d",
         "x": [
          -0.005195509176701307,
          -0.5126376748085022
         ],
         "y": [
          1.5086822509765625,
          1.8780584335327148
         ],
         "z": [
          0.0330876000225544,
          0.9287542104721069
         ]
        },
        {
         "line": {
          "color": "black",
          "width": 2
         },
         "mode": "lines",
         "showlegend": false,
         "type": "scatter3d",
         "x": [
          -0.005195509176701307,
          -1.0159950256347656
         ],
         "y": [
          1.5086822509765625,
          -0.40998730063438416
         ],
         "z": [
          0.0330876000225544,
          0.007142823655158281
         ]
        },
        {
         "line": {
          "color": "black",
          "width": 2
         },
         "mode": "lines",
         "showlegend": false,
         "type": "scatter3d",
         "x": [
          -0.005195509176701307,
          0.5109314322471619
         ],
         "y": [
          1.5086822509765625,
          -0.3836943507194519
         ],
         "z": [
          0.0330876000225544,
          -0.8921939730644226
         ]
        },
        {
         "line": {
          "color": "black",
          "width": 2
         },
         "mode": "lines",
         "showlegend": false,
         "type": "scatter3d",
         "x": [
          -0.005195509176701307,
          -0.23415841162204742
         ],
         "y": [
          1.5086822509765625,
          -2.324514865875244
         ],
         "z": [
          0.0330876000225544,
          1.2897777557373047
         ]
        },
        {
         "line": {
          "color": "black",
          "width": 2
         },
         "mode": "lines",
         "showlegend": false,
         "type": "scatter3d",
         "x": [
          -0.005195509176701307,
          1.3012927770614624
         ],
         "y": [
          1.5086822509765625,
          -2.298536539077759
         ],
         "z": [
          0.0330876000225544,
          0.38486096262931824
         ]
        },
        {
         "line": {
          "color": "black",
          "width": 2
         },
         "mode": "lines",
         "showlegend": false,
         "type": "scatter3d",
         "x": [
          -0.005195509176701307,
          1.3099029064178467
         ],
         "y": [
          1.5086822509765625,
          -2.118119955062866
         ],
         "z": [
          0.0330876000225544,
          2.1601321697235107
         ]
        },
        {
         "line": {
          "color": "black",
          "width": 2
         },
         "mode": "lines",
         "showlegend": false,
         "type": "scatter3d",
         "x": [
          0.013165799900889397,
          -0.005195509176701307
         ],
         "y": [
          -0.01037819217890501,
          1.5086822509765625
         ],
         "z": [
          0.019886434078216553,
          0.0330876000225544
         ]
        },
        {
         "line": {
          "color": "black",
          "width": 2
         },
         "mode": "lines",
         "showlegend": false,
         "type": "scatter3d",
         "x": [
          0.013165799900889397,
          0.6975894570350647
         ],
         "y": [
          -0.01037819217890501,
          -0.463441401720047
         ],
         "z": [
          0.019886434078216553,
          1.1686897277832031
         ]
        },
        {
         "line": {
          "color": "black",
          "width": 2
         },
         "mode": "lines",
         "showlegend": false,
         "type": "scatter3d",
         "x": [
          0.013165799900889397,
          0.7668849229812622
         ],
         "y": [
          -0.01037819217890501,
          -1.865081787109375
         ],
         "z": [
          0.019886434078216553,
          1.246026635169983
         ]
        },
        {
         "line": {
          "color": "black",
          "width": 2
         },
         "mode": "lines",
         "showlegend": false,
         "type": "scatter3d",
         "x": [
          0.013165799900889397,
          1.01445472240448
         ],
         "y": [
          -0.01037819217890501,
          1.904237985610962
         ],
         "z": [
          0.019886434078216553,
          0.029960181564092636
         ]
        },
        {
         "line": {
          "color": "black",
          "width": 2
         },
         "mode": "lines",
         "showlegend": false,
         "type": "scatter3d",
         "x": [
          0.013165799900889397,
          -0.5299086570739746
         ],
         "y": [
          -0.01037819217890501,
          1.8918405771255493
         ],
         "z": [
          0.019886434078216553,
          -0.8472691178321838
         ]
        },
        {
         "line": {
          "color": "black",
          "width": 2
         },
         "mode": "lines",
         "showlegend": false,
         "type": "scatter3d",
         "x": [
          0.013165799900889397,
          -0.5126376748085022
         ],
         "y": [
          -0.01037819217890501,
          1.8780584335327148
         ],
         "z": [
          0.019886434078216553,
          0.9287542104721069
         ]
        },
        {
         "line": {
          "color": "black",
          "width": 2
         },
         "mode": "lines",
         "showlegend": false,
         "type": "scatter3d",
         "x": [
          0.013165799900889397,
          -1.0159950256347656
         ],
         "y": [
          -0.01037819217890501,
          -0.40998730063438416
         ],
         "z": [
          0.019886434078216553,
          0.007142823655158281
         ]
        },
        {
         "line": {
          "color": "black",
          "width": 2
         },
         "mode": "lines",
         "showlegend": false,
         "type": "scatter3d",
         "x": [
          0.013165799900889397,
          0.5109314322471619
         ],
         "y": [
          -0.01037819217890501,
          -0.3836943507194519
         ],
         "z": [
          0.019886434078216553,
          -0.8921939730644226
         ]
        },
        {
         "line": {
          "color": "black",
          "width": 2
         },
         "mode": "lines",
         "showlegend": false,
         "type": "scatter3d",
         "x": [
          0.013165799900889397,
          -0.23415841162204742
         ],
         "y": [
          -0.01037819217890501,
          -2.324514865875244
         ],
         "z": [
          0.019886434078216553,
          1.2897777557373047
         ]
        },
        {
         "line": {
          "color": "black",
          "width": 2
         },
         "mode": "lines",
         "showlegend": false,
         "type": "scatter3d",
         "x": [
          0.013165799900889397,
          1.3012927770614624
         ],
         "y": [
          -0.01037819217890501,
          -2.298536539077759
         ],
         "z": [
          0.019886434078216553,
          0.38486096262931824
         ]
        },
        {
         "line": {
          "color": "black",
          "width": 2
         },
         "mode": "lines",
         "showlegend": false,
         "type": "scatter3d",
         "x": [
          0.013165799900889397,
          1.3099029064178467
         ],
         "y": [
          -0.01037819217890501,
          -2.118119955062866
         ],
         "z": [
          0.019886434078216553,
          2.1601321697235107
         ]
        },
        {
         "line": {
          "color": "black",
          "width": 2
         },
         "mode": "lines",
         "showlegend": false,
         "type": "scatter3d",
         "x": [
          0.6975894570350647,
          -0.005195509176701307
         ],
         "y": [
          -0.463441401720047,
          1.5086822509765625
         ],
         "z": [
          1.1686897277832031,
          0.0330876000225544
         ]
        },
        {
         "line": {
          "color": "black",
          "width": 2
         },
         "mode": "lines",
         "showlegend": false,
         "type": "scatter3d",
         "x": [
          0.6975894570350647,
          0.013165799900889397
         ],
         "y": [
          -0.463441401720047,
          -0.01037819217890501
         ],
         "z": [
          1.1686897277832031,
          0.019886434078216553
         ]
        },
        {
         "line": {
          "color": "black",
          "width": 2
         },
         "mode": "lines",
         "showlegend": false,
         "type": "scatter3d",
         "x": [
          0.6975894570350647,
          0.7668849229812622
         ],
         "y": [
          -0.463441401720047,
          -1.865081787109375
         ],
         "z": [
          1.1686897277832031,
          1.246026635169983
         ]
        },
        {
         "line": {
          "color": "black",
          "width": 2
         },
         "mode": "lines",
         "showlegend": false,
         "type": "scatter3d",
         "x": [
          0.6975894570350647,
          1.01445472240448
         ],
         "y": [
          -0.463441401720047,
          1.904237985610962
         ],
         "z": [
          1.1686897277832031,
          0.029960181564092636
         ]
        },
        {
         "line": {
          "color": "black",
          "width": 2
         },
         "mode": "lines",
         "showlegend": false,
         "type": "scatter3d",
         "x": [
          0.6975894570350647,
          -0.5299086570739746
         ],
         "y": [
          -0.463441401720047,
          1.8918405771255493
         ],
         "z": [
          1.1686897277832031,
          -0.8472691178321838
         ]
        },
        {
         "line": {
          "color": "black",
          "width": 2
         },
         "mode": "lines",
         "showlegend": false,
         "type": "scatter3d",
         "x": [
          0.6975894570350647,
          -0.5126376748085022
         ],
         "y": [
          -0.463441401720047,
          1.8780584335327148
         ],
         "z": [
          1.1686897277832031,
          0.9287542104721069
         ]
        },
        {
         "line": {
          "color": "black",
          "width": 2
         },
         "mode": "lines",
         "showlegend": false,
         "type": "scatter3d",
         "x": [
          0.6975894570350647,
          -1.0159950256347656
         ],
         "y": [
          -0.463441401720047,
          -0.40998730063438416
         ],
         "z": [
          1.1686897277832031,
          0.007142823655158281
         ]
        },
        {
         "line": {
          "color": "black",
          "width": 2
         },
         "mode": "lines",
         "showlegend": false,
         "type": "scatter3d",
         "x": [
          0.6975894570350647,
          0.5109314322471619
         ],
         "y": [
          -0.463441401720047,
          -0.3836943507194519
         ],
         "z": [
          1.1686897277832031,
          -0.8921939730644226
         ]
        },
        {
         "line": {
          "color": "black",
          "width": 2
         },
         "mode": "lines",
         "showlegend": false,
         "type": "scatter3d",
         "x": [
          0.6975894570350647,
          -0.23415841162204742
         ],
         "y": [
          -0.463441401720047,
          -2.324514865875244
         ],
         "z": [
          1.1686897277832031,
          1.2897777557373047
         ]
        },
        {
         "line": {
          "color": "black",
          "width": 2
         },
         "mode": "lines",
         "showlegend": false,
         "type": "scatter3d",
         "x": [
          0.6975894570350647,
          1.3012927770614624
         ],
         "y": [
          -0.463441401720047,
          -2.298536539077759
         ],
         "z": [
          1.1686897277832031,
          0.38486096262931824
         ]
        },
        {
         "line": {
          "color": "black",
          "width": 2
         },
         "mode": "lines",
         "showlegend": false,
         "type": "scatter3d",
         "x": [
          0.6975894570350647,
          1.3099029064178467
         ],
         "y": [
          -0.463441401720047,
          -2.118119955062866
         ],
         "z": [
          1.1686897277832031,
          2.1601321697235107
         ]
        },
        {
         "line": {
          "color": "black",
          "width": 2
         },
         "mode": "lines",
         "showlegend": false,
         "type": "scatter3d",
         "x": [
          0.7668849229812622,
          -0.005195509176701307
         ],
         "y": [
          -1.865081787109375,
          1.5086822509765625
         ],
         "z": [
          1.246026635169983,
          0.0330876000225544
         ]
        },
        {
         "line": {
          "color": "black",
          "width": 2
         },
         "mode": "lines",
         "showlegend": false,
         "type": "scatter3d",
         "x": [
          0.7668849229812622,
          0.013165799900889397
         ],
         "y": [
          -1.865081787109375,
          -0.01037819217890501
         ],
         "z": [
          1.246026635169983,
          0.019886434078216553
         ]
        },
        {
         "line": {
          "color": "black",
          "width": 2
         },
         "mode": "lines",
         "showlegend": false,
         "type": "scatter3d",
         "x": [
          0.7668849229812622,
          0.6975894570350647
         ],
         "y": [
          -1.865081787109375,
          -0.463441401720047
         ],
         "z": [
          1.246026635169983,
          1.1686897277832031
         ]
        },
        {
         "line": {
          "color": "black",
          "width": 2
         },
         "mode": "lines",
         "showlegend": false,
         "type": "scatter3d",
         "x": [
          0.7668849229812622,
          1.01445472240448
         ],
         "y": [
          -1.865081787109375,
          1.904237985610962
         ],
         "z": [
          1.246026635169983,
          0.029960181564092636
         ]
        },
        {
         "line": {
          "color": "black",
          "width": 2
         },
         "mode": "lines",
         "showlegend": false,
         "type": "scatter3d",
         "x": [
          0.7668849229812622,
          -0.5299086570739746
         ],
         "y": [
          -1.865081787109375,
          1.8918405771255493
         ],
         "z": [
          1.246026635169983,
          -0.8472691178321838
         ]
        },
        {
         "line": {
          "color": "black",
          "width": 2
         },
         "mode": "lines",
         "showlegend": false,
         "type": "scatter3d",
         "x": [
          0.7668849229812622,
          -0.5126376748085022
         ],
         "y": [
          -1.865081787109375,
          1.8780584335327148
         ],
         "z": [
          1.246026635169983,
          0.9287542104721069
         ]
        },
        {
         "line": {
          "color": "black",
          "width": 2
         },
         "mode": "lines",
         "showlegend": false,
         "type": "scatter3d",
         "x": [
          0.7668849229812622,
          -1.0159950256347656
         ],
         "y": [
          -1.865081787109375,
          -0.40998730063438416
         ],
         "z": [
          1.246026635169983,
          0.007142823655158281
         ]
        },
        {
         "line": {
          "color": "black",
          "width": 2
         },
         "mode": "lines",
         "showlegend": false,
         "type": "scatter3d",
         "x": [
          0.7668849229812622,
          0.5109314322471619
         ],
         "y": [
          -1.865081787109375,
          -0.3836943507194519
         ],
         "z": [
          1.246026635169983,
          -0.8921939730644226
         ]
        },
        {
         "line": {
          "color": "black",
          "width": 2
         },
         "mode": "lines",
         "showlegend": false,
         "type": "scatter3d",
         "x": [
          0.7668849229812622,
          -0.23415841162204742
         ],
         "y": [
          -1.865081787109375,
          -2.324514865875244
         ],
         "z": [
          1.246026635169983,
          1.2897777557373047
         ]
        },
        {
         "line": {
          "color": "black",
          "width": 2
         },
         "mode": "lines",
         "showlegend": false,
         "type": "scatter3d",
         "x": [
          0.7668849229812622,
          1.3012927770614624
         ],
         "y": [
          -1.865081787109375,
          -2.298536539077759
         ],
         "z": [
          1.246026635169983,
          0.38486096262931824
         ]
        },
        {
         "line": {
          "color": "black",
          "width": 2
         },
         "mode": "lines",
         "showlegend": false,
         "type": "scatter3d",
         "x": [
          0.7668849229812622,
          1.3099029064178467
         ],
         "y": [
          -1.865081787109375,
          -2.118119955062866
         ],
         "z": [
          1.246026635169983,
          2.1601321697235107
         ]
        },
        {
         "line": {
          "color": "black",
          "width": 2
         },
         "mode": "lines",
         "showlegend": false,
         "type": "scatter3d",
         "x": [
          1.01445472240448,
          -0.005195509176701307
         ],
         "y": [
          1.904237985610962,
          1.5086822509765625
         ],
         "z": [
          0.029960181564092636,
          0.0330876000225544
         ]
        },
        {
         "line": {
          "color": "black",
          "width": 2
         },
         "mode": "lines",
         "showlegend": false,
         "type": "scatter3d",
         "x": [
          1.01445472240448,
          0.013165799900889397
         ],
         "y": [
          1.904237985610962,
          -0.01037819217890501
         ],
         "z": [
          0.029960181564092636,
          0.019886434078216553
         ]
        },
        {
         "line": {
          "color": "black",
          "width": 2
         },
         "mode": "lines",
         "showlegend": false,
         "type": "scatter3d",
         "x": [
          1.01445472240448,
          0.6975894570350647
         ],
         "y": [
          1.904237985610962,
          -0.463441401720047
         ],
         "z": [
          0.029960181564092636,
          1.1686897277832031
         ]
        },
        {
         "line": {
          "color": "black",
          "width": 2
         },
         "mode": "lines",
         "showlegend": false,
         "type": "scatter3d",
         "x": [
          1.01445472240448,
          0.7668849229812622
         ],
         "y": [
          1.904237985610962,
          -1.865081787109375
         ],
         "z": [
          0.029960181564092636,
          1.246026635169983
         ]
        },
        {
         "line": {
          "color": "black",
          "width": 2
         },
         "mode": "lines",
         "showlegend": false,
         "type": "scatter3d",
         "x": [
          1.01445472240448,
          -0.5299086570739746
         ],
         "y": [
          1.904237985610962,
          1.8918405771255493
         ],
         "z": [
          0.029960181564092636,
          -0.8472691178321838
         ]
        },
        {
         "line": {
          "color": "black",
          "width": 2
         },
         "mode": "lines",
         "showlegend": false,
         "type": "scatter3d",
         "x": [
          1.01445472240448,
          -0.5126376748085022
         ],
         "y": [
          1.904237985610962,
          1.8780584335327148
         ],
         "z": [
          0.029960181564092636,
          0.9287542104721069
         ]
        },
        {
         "line": {
          "color": "black",
          "width": 2
         },
         "mode": "lines",
         "showlegend": false,
         "type": "scatter3d",
         "x": [
          1.01445472240448,
          -1.0159950256347656
         ],
         "y": [
          1.904237985610962,
          -0.40998730063438416
         ],
         "z": [
          0.029960181564092636,
          0.007142823655158281
         ]
        },
        {
         "line": {
          "color": "black",
          "width": 2
         },
         "mode": "lines",
         "showlegend": false,
         "type": "scatter3d",
         "x": [
          1.01445472240448,
          0.5109314322471619
         ],
         "y": [
          1.904237985610962,
          -0.3836943507194519
         ],
         "z": [
          0.029960181564092636,
          -0.8921939730644226
         ]
        },
        {
         "line": {
          "color": "black",
          "width": 2
         },
         "mode": "lines",
         "showlegend": false,
         "type": "scatter3d",
         "x": [
          1.01445472240448,
          -0.23415841162204742
         ],
         "y": [
          1.904237985610962,
          -2.324514865875244
         ],
         "z": [
          0.029960181564092636,
          1.2897777557373047
         ]
        },
        {
         "line": {
          "color": "black",
          "width": 2
         },
         "mode": "lines",
         "showlegend": false,
         "type": "scatter3d",
         "x": [
          1.01445472240448,
          1.3012927770614624
         ],
         "y": [
          1.904237985610962,
          -2.298536539077759
         ],
         "z": [
          0.029960181564092636,
          0.38486096262931824
         ]
        },
        {
         "line": {
          "color": "black",
          "width": 2
         },
         "mode": "lines",
         "showlegend": false,
         "type": "scatter3d",
         "x": [
          1.01445472240448,
          1.3099029064178467
         ],
         "y": [
          1.904237985610962,
          -2.118119955062866
         ],
         "z": [
          0.029960181564092636,
          2.1601321697235107
         ]
        },
        {
         "line": {
          "color": "black",
          "width": 2
         },
         "mode": "lines",
         "showlegend": false,
         "type": "scatter3d",
         "x": [
          -0.5299086570739746,
          -0.005195509176701307
         ],
         "y": [
          1.8918405771255493,
          1.5086822509765625
         ],
         "z": [
          -0.8472691178321838,
          0.0330876000225544
         ]
        },
        {
         "line": {
          "color": "black",
          "width": 2
         },
         "mode": "lines",
         "showlegend": false,
         "type": "scatter3d",
         "x": [
          -0.5299086570739746,
          0.013165799900889397
         ],
         "y": [
          1.8918405771255493,
          -0.01037819217890501
         ],
         "z": [
          -0.8472691178321838,
          0.019886434078216553
         ]
        },
        {
         "line": {
          "color": "black",
          "width": 2
         },
         "mode": "lines",
         "showlegend": false,
         "type": "scatter3d",
         "x": [
          -0.5299086570739746,
          0.6975894570350647
         ],
         "y": [
          1.8918405771255493,
          -0.463441401720047
         ],
         "z": [
          -0.8472691178321838,
          1.1686897277832031
         ]
        },
        {
         "line": {
          "color": "black",
          "width": 2
         },
         "mode": "lines",
         "showlegend": false,
         "type": "scatter3d",
         "x": [
          -0.5299086570739746,
          0.7668849229812622
         ],
         "y": [
          1.8918405771255493,
          -1.865081787109375
         ],
         "z": [
          -0.8472691178321838,
          1.246026635169983
         ]
        },
        {
         "line": {
          "color": "black",
          "width": 2
         },
         "mode": "lines",
         "showlegend": false,
         "type": "scatter3d",
         "x": [
          -0.5299086570739746,
          1.01445472240448
         ],
         "y": [
          1.8918405771255493,
          1.904237985610962
         ],
         "z": [
          -0.8472691178321838,
          0.029960181564092636
         ]
        },
        {
         "line": {
          "color": "black",
          "width": 2
         },
         "mode": "lines",
         "showlegend": false,
         "type": "scatter3d",
         "x": [
          -0.5299086570739746,
          -0.5126376748085022
         ],
         "y": [
          1.8918405771255493,
          1.8780584335327148
         ],
         "z": [
          -0.8472691178321838,
          0.9287542104721069
         ]
        },
        {
         "line": {
          "color": "black",
          "width": 2
         },
         "mode": "lines",
         "showlegend": false,
         "type": "scatter3d",
         "x": [
          -0.5299086570739746,
          -1.0159950256347656
         ],
         "y": [
          1.8918405771255493,
          -0.40998730063438416
         ],
         "z": [
          -0.8472691178321838,
          0.007142823655158281
         ]
        },
        {
         "line": {
          "color": "black",
          "width": 2
         },
         "mode": "lines",
         "showlegend": false,
         "type": "scatter3d",
         "x": [
          -0.5299086570739746,
          0.5109314322471619
         ],
         "y": [
          1.8918405771255493,
          -0.3836943507194519
         ],
         "z": [
          -0.8472691178321838,
          -0.8921939730644226
         ]
        },
        {
         "line": {
          "color": "black",
          "width": 2
         },
         "mode": "lines",
         "showlegend": false,
         "type": "scatter3d",
         "x": [
          -0.5299086570739746,
          -0.23415841162204742
         ],
         "y": [
          1.8918405771255493,
          -2.324514865875244
         ],
         "z": [
          -0.8472691178321838,
          1.2897777557373047
         ]
        },
        {
         "line": {
          "color": "black",
          "width": 2
         },
         "mode": "lines",
         "showlegend": false,
         "type": "scatter3d",
         "x": [
          -0.5299086570739746,
          1.3012927770614624
         ],
         "y": [
          1.8918405771255493,
          -2.298536539077759
         ],
         "z": [
          -0.8472691178321838,
          0.38486096262931824
         ]
        },
        {
         "line": {
          "color": "black",
          "width": 2
         },
         "mode": "lines",
         "showlegend": false,
         "type": "scatter3d",
         "x": [
          -0.5126376748085022,
          -0.005195509176701307
         ],
         "y": [
          1.8780584335327148,
          1.5086822509765625
         ],
         "z": [
          0.9287542104721069,
          0.0330876000225544
         ]
        },
        {
         "line": {
          "color": "black",
          "width": 2
         },
         "mode": "lines",
         "showlegend": false,
         "type": "scatter3d",
         "x": [
          -0.5126376748085022,
          0.013165799900889397
         ],
         "y": [
          1.8780584335327148,
          -0.01037819217890501
         ],
         "z": [
          0.9287542104721069,
          0.019886434078216553
         ]
        },
        {
         "line": {
          "color": "black",
          "width": 2
         },
         "mode": "lines",
         "showlegend": false,
         "type": "scatter3d",
         "x": [
          -0.5126376748085022,
          0.6975894570350647
         ],
         "y": [
          1.8780584335327148,
          -0.463441401720047
         ],
         "z": [
          0.9287542104721069,
          1.1686897277832031
         ]
        },
        {
         "line": {
          "color": "black",
          "width": 2
         },
         "mode": "lines",
         "showlegend": false,
         "type": "scatter3d",
         "x": [
          -0.5126376748085022,
          0.7668849229812622
         ],
         "y": [
          1.8780584335327148,
          -1.865081787109375
         ],
         "z": [
          0.9287542104721069,
          1.246026635169983
         ]
        },
        {
         "line": {
          "color": "black",
          "width": 2
         },
         "mode": "lines",
         "showlegend": false,
         "type": "scatter3d",
         "x": [
          -0.5126376748085022,
          1.01445472240448
         ],
         "y": [
          1.8780584335327148,
          1.904237985610962
         ],
         "z": [
          0.9287542104721069,
          0.029960181564092636
         ]
        },
        {
         "line": {
          "color": "black",
          "width": 2
         },
         "mode": "lines",
         "showlegend": false,
         "type": "scatter3d",
         "x": [
          -0.5126376748085022,
          -0.5299086570739746
         ],
         "y": [
          1.8780584335327148,
          1.8918405771255493
         ],
         "z": [
          0.9287542104721069,
          -0.8472691178321838
         ]
        },
        {
         "line": {
          "color": "black",
          "width": 2
         },
         "mode": "lines",
         "showlegend": false,
         "type": "scatter3d",
         "x": [
          -0.5126376748085022,
          -1.0159950256347656
         ],
         "y": [
          1.8780584335327148,
          -0.40998730063438416
         ],
         "z": [
          0.9287542104721069,
          0.007142823655158281
         ]
        },
        {
         "line": {
          "color": "black",
          "width": 2
         },
         "mode": "lines",
         "showlegend": false,
         "type": "scatter3d",
         "x": [
          -0.5126376748085022,
          0.5109314322471619
         ],
         "y": [
          1.8780584335327148,
          -0.3836943507194519
         ],
         "z": [
          0.9287542104721069,
          -0.8921939730644226
         ]
        },
        {
         "line": {
          "color": "black",
          "width": 2
         },
         "mode": "lines",
         "showlegend": false,
         "type": "scatter3d",
         "x": [
          -0.5126376748085022,
          -0.23415841162204742
         ],
         "y": [
          1.8780584335327148,
          -2.324514865875244
         ],
         "z": [
          0.9287542104721069,
          1.2897777557373047
         ]
        },
        {
         "line": {
          "color": "black",
          "width": 2
         },
         "mode": "lines",
         "showlegend": false,
         "type": "scatter3d",
         "x": [
          -0.5126376748085022,
          1.3012927770614624
         ],
         "y": [
          1.8780584335327148,
          -2.298536539077759
         ],
         "z": [
          0.9287542104721069,
          0.38486096262931824
         ]
        },
        {
         "line": {
          "color": "black",
          "width": 2
         },
         "mode": "lines",
         "showlegend": false,
         "type": "scatter3d",
         "x": [
          -0.5126376748085022,
          1.3099029064178467
         ],
         "y": [
          1.8780584335327148,
          -2.118119955062866
         ],
         "z": [
          0.9287542104721069,
          2.1601321697235107
         ]
        },
        {
         "line": {
          "color": "black",
          "width": 2
         },
         "mode": "lines",
         "showlegend": false,
         "type": "scatter3d",
         "x": [
          -1.0159950256347656,
          -0.005195509176701307
         ],
         "y": [
          -0.40998730063438416,
          1.5086822509765625
         ],
         "z": [
          0.007142823655158281,
          0.0330876000225544
         ]
        },
        {
         "line": {
          "color": "black",
          "width": 2
         },
         "mode": "lines",
         "showlegend": false,
         "type": "scatter3d",
         "x": [
          -1.0159950256347656,
          0.013165799900889397
         ],
         "y": [
          -0.40998730063438416,
          -0.01037819217890501
         ],
         "z": [
          0.007142823655158281,
          0.019886434078216553
         ]
        },
        {
         "line": {
          "color": "black",
          "width": 2
         },
         "mode": "lines",
         "showlegend": false,
         "type": "scatter3d",
         "x": [
          -1.0159950256347656,
          0.6975894570350647
         ],
         "y": [
          -0.40998730063438416,
          -0.463441401720047
         ],
         "z": [
          0.007142823655158281,
          1.1686897277832031
         ]
        },
        {
         "line": {
          "color": "black",
          "width": 2
         },
         "mode": "lines",
         "showlegend": false,
         "type": "scatter3d",
         "x": [
          -1.0159950256347656,
          0.7668849229812622
         ],
         "y": [
          -0.40998730063438416,
          -1.865081787109375
         ],
         "z": [
          0.007142823655158281,
          1.246026635169983
         ]
        },
        {
         "line": {
          "color": "black",
          "width": 2
         },
         "mode": "lines",
         "showlegend": false,
         "type": "scatter3d",
         "x": [
          -1.0159950256347656,
          1.01445472240448
         ],
         "y": [
          -0.40998730063438416,
          1.904237985610962
         ],
         "z": [
          0.007142823655158281,
          0.029960181564092636
         ]
        },
        {
         "line": {
          "color": "black",
          "width": 2
         },
         "mode": "lines",
         "showlegend": false,
         "type": "scatter3d",
         "x": [
          -1.0159950256347656,
          -0.5299086570739746
         ],
         "y": [
          -0.40998730063438416,
          1.8918405771255493
         ],
         "z": [
          0.007142823655158281,
          -0.8472691178321838
         ]
        },
        {
         "line": {
          "color": "black",
          "width": 2
         },
         "mode": "lines",
         "showlegend": false,
         "type": "scatter3d",
         "x": [
          -1.0159950256347656,
          -0.5126376748085022
         ],
         "y": [
          -0.40998730063438416,
          1.8780584335327148
         ],
         "z": [
          0.007142823655158281,
          0.9287542104721069
         ]
        },
        {
         "line": {
          "color": "black",
          "width": 2
         },
         "mode": "lines",
         "showlegend": false,
         "type": "scatter3d",
         "x": [
          -1.0159950256347656,
          0.5109314322471619
         ],
         "y": [
          -0.40998730063438416,
          -0.3836943507194519
         ],
         "z": [
          0.007142823655158281,
          -0.8921939730644226
         ]
        },
        {
         "line": {
          "color": "black",
          "width": 2
         },
         "mode": "lines",
         "showlegend": false,
         "type": "scatter3d",
         "x": [
          -1.0159950256347656,
          -0.23415841162204742
         ],
         "y": [
          -0.40998730063438416,
          -2.324514865875244
         ],
         "z": [
          0.007142823655158281,
          1.2897777557373047
         ]
        },
        {
         "line": {
          "color": "black",
          "width": 2
         },
         "mode": "lines",
         "showlegend": false,
         "type": "scatter3d",
         "x": [
          -1.0159950256347656,
          1.3012927770614624
         ],
         "y": [
          -0.40998730063438416,
          -2.298536539077759
         ],
         "z": [
          0.007142823655158281,
          0.38486096262931824
         ]
        },
        {
         "line": {
          "color": "black",
          "width": 2
         },
         "mode": "lines",
         "showlegend": false,
         "type": "scatter3d",
         "x": [
          -1.0159950256347656,
          1.3099029064178467
         ],
         "y": [
          -0.40998730063438416,
          -2.118119955062866
         ],
         "z": [
          0.007142823655158281,
          2.1601321697235107
         ]
        },
        {
         "line": {
          "color": "black",
          "width": 2
         },
         "mode": "lines",
         "showlegend": false,
         "type": "scatter3d",
         "x": [
          0.5109314322471619,
          -0.005195509176701307
         ],
         "y": [
          -0.3836943507194519,
          1.5086822509765625
         ],
         "z": [
          -0.8921939730644226,
          0.0330876000225544
         ]
        },
        {
         "line": {
          "color": "black",
          "width": 2
         },
         "mode": "lines",
         "showlegend": false,
         "type": "scatter3d",
         "x": [
          0.5109314322471619,
          0.013165799900889397
         ],
         "y": [
          -0.3836943507194519,
          -0.01037819217890501
         ],
         "z": [
          -0.8921939730644226,
          0.019886434078216553
         ]
        },
        {
         "line": {
          "color": "black",
          "width": 2
         },
         "mode": "lines",
         "showlegend": false,
         "type": "scatter3d",
         "x": [
          0.5109314322471619,
          0.6975894570350647
         ],
         "y": [
          -0.3836943507194519,
          -0.463441401720047
         ],
         "z": [
          -0.8921939730644226,
          1.1686897277832031
         ]
        },
        {
         "line": {
          "color": "black",
          "width": 2
         },
         "mode": "lines",
         "showlegend": false,
         "type": "scatter3d",
         "x": [
          0.5109314322471619,
          0.7668849229812622
         ],
         "y": [
          -0.3836943507194519,
          -1.865081787109375
         ],
         "z": [
          -0.8921939730644226,
          1.246026635169983
         ]
        },
        {
         "line": {
          "color": "black",
          "width": 2
         },
         "mode": "lines",
         "showlegend": false,
         "type": "scatter3d",
         "x": [
          0.5109314322471619,
          1.01445472240448
         ],
         "y": [
          -0.3836943507194519,
          1.904237985610962
         ],
         "z": [
          -0.8921939730644226,
          0.029960181564092636
         ]
        },
        {
         "line": {
          "color": "black",
          "width": 2
         },
         "mode": "lines",
         "showlegend": false,
         "type": "scatter3d",
         "x": [
          0.5109314322471619,
          -0.5299086570739746
         ],
         "y": [
          -0.3836943507194519,
          1.8918405771255493
         ],
         "z": [
          -0.8921939730644226,
          -0.8472691178321838
         ]
        },
        {
         "line": {
          "color": "black",
          "width": 2
         },
         "mode": "lines",
         "showlegend": false,
         "type": "scatter3d",
         "x": [
          0.5109314322471619,
          -0.5126376748085022
         ],
         "y": [
          -0.3836943507194519,
          1.8780584335327148
         ],
         "z": [
          -0.8921939730644226,
          0.9287542104721069
         ]
        },
        {
         "line": {
          "color": "black",
          "width": 2
         },
         "mode": "lines",
         "showlegend": false,
         "type": "scatter3d",
         "x": [
          0.5109314322471619,
          -1.0159950256347656
         ],
         "y": [
          -0.3836943507194519,
          -0.40998730063438416
         ],
         "z": [
          -0.8921939730644226,
          0.007142823655158281
         ]
        },
        {
         "line": {
          "color": "black",
          "width": 2
         },
         "mode": "lines",
         "showlegend": false,
         "type": "scatter3d",
         "x": [
          0.5109314322471619,
          -0.23415841162204742
         ],
         "y": [
          -0.3836943507194519,
          -2.324514865875244
         ],
         "z": [
          -0.8921939730644226,
          1.2897777557373047
         ]
        },
        {
         "line": {
          "color": "black",
          "width": 2
         },
         "mode": "lines",
         "showlegend": false,
         "type": "scatter3d",
         "x": [
          0.5109314322471619,
          1.3012927770614624
         ],
         "y": [
          -0.3836943507194519,
          -2.298536539077759
         ],
         "z": [
          -0.8921939730644226,
          0.38486096262931824
         ]
        },
        {
         "line": {
          "color": "black",
          "width": 2
         },
         "mode": "lines",
         "showlegend": false,
         "type": "scatter3d",
         "x": [
          0.5109314322471619,
          1.3099029064178467
         ],
         "y": [
          -0.3836943507194519,
          -2.118119955062866
         ],
         "z": [
          -0.8921939730644226,
          2.1601321697235107
         ]
        },
        {
         "line": {
          "color": "black",
          "width": 2
         },
         "mode": "lines",
         "showlegend": false,
         "type": "scatter3d",
         "x": [
          -0.23415841162204742,
          -0.005195509176701307
         ],
         "y": [
          -2.324514865875244,
          1.5086822509765625
         ],
         "z": [
          1.2897777557373047,
          0.0330876000225544
         ]
        },
        {
         "line": {
          "color": "black",
          "width": 2
         },
         "mode": "lines",
         "showlegend": false,
         "type": "scatter3d",
         "x": [
          -0.23415841162204742,
          0.013165799900889397
         ],
         "y": [
          -2.324514865875244,
          -0.01037819217890501
         ],
         "z": [
          1.2897777557373047,
          0.019886434078216553
         ]
        },
        {
         "line": {
          "color": "black",
          "width": 2
         },
         "mode": "lines",
         "showlegend": false,
         "type": "scatter3d",
         "x": [
          -0.23415841162204742,
          0.6975894570350647
         ],
         "y": [
          -2.324514865875244,
          -0.463441401720047
         ],
         "z": [
          1.2897777557373047,
          1.1686897277832031
         ]
        },
        {
         "line": {
          "color": "black",
          "width": 2
         },
         "mode": "lines",
         "showlegend": false,
         "type": "scatter3d",
         "x": [
          -0.23415841162204742,
          0.7668849229812622
         ],
         "y": [
          -2.324514865875244,
          -1.865081787109375
         ],
         "z": [
          1.2897777557373047,
          1.246026635169983
         ]
        },
        {
         "line": {
          "color": "black",
          "width": 2
         },
         "mode": "lines",
         "showlegend": false,
         "type": "scatter3d",
         "x": [
          -0.23415841162204742,
          1.01445472240448
         ],
         "y": [
          -2.324514865875244,
          1.904237985610962
         ],
         "z": [
          1.2897777557373047,
          0.029960181564092636
         ]
        },
        {
         "line": {
          "color": "black",
          "width": 2
         },
         "mode": "lines",
         "showlegend": false,
         "type": "scatter3d",
         "x": [
          -0.23415841162204742,
          -0.5299086570739746
         ],
         "y": [
          -2.324514865875244,
          1.8918405771255493
         ],
         "z": [
          1.2897777557373047,
          -0.8472691178321838
         ]
        },
        {
         "line": {
          "color": "black",
          "width": 2
         },
         "mode": "lines",
         "showlegend": false,
         "type": "scatter3d",
         "x": [
          -0.23415841162204742,
          -0.5126376748085022
         ],
         "y": [
          -2.324514865875244,
          1.8780584335327148
         ],
         "z": [
          1.2897777557373047,
          0.9287542104721069
         ]
        },
        {
         "line": {
          "color": "black",
          "width": 2
         },
         "mode": "lines",
         "showlegend": false,
         "type": "scatter3d",
         "x": [
          -0.23415841162204742,
          -1.0159950256347656
         ],
         "y": [
          -2.324514865875244,
          -0.40998730063438416
         ],
         "z": [
          1.2897777557373047,
          0.007142823655158281
         ]
        },
        {
         "line": {
          "color": "black",
          "width": 2
         },
         "mode": "lines",
         "showlegend": false,
         "type": "scatter3d",
         "x": [
          -0.23415841162204742,
          0.5109314322471619
         ],
         "y": [
          -2.324514865875244,
          -0.3836943507194519
         ],
         "z": [
          1.2897777557373047,
          -0.8921939730644226
         ]
        },
        {
         "line": {
          "color": "black",
          "width": 2
         },
         "mode": "lines",
         "showlegend": false,
         "type": "scatter3d",
         "x": [
          -0.23415841162204742,
          1.3012927770614624
         ],
         "y": [
          -2.324514865875244,
          -2.298536539077759
         ],
         "z": [
          1.2897777557373047,
          0.38486096262931824
         ]
        },
        {
         "line": {
          "color": "black",
          "width": 2
         },
         "mode": "lines",
         "showlegend": false,
         "type": "scatter3d",
         "x": [
          -0.23415841162204742,
          1.3099029064178467
         ],
         "y": [
          -2.324514865875244,
          -2.118119955062866
         ],
         "z": [
          1.2897777557373047,
          2.1601321697235107
         ]
        },
        {
         "line": {
          "color": "black",
          "width": 2
         },
         "mode": "lines",
         "showlegend": false,
         "type": "scatter3d",
         "x": [
          1.3012927770614624,
          -0.005195509176701307
         ],
         "y": [
          -2.298536539077759,
          1.5086822509765625
         ],
         "z": [
          0.38486096262931824,
          0.0330876000225544
         ]
        },
        {
         "line": {
          "color": "black",
          "width": 2
         },
         "mode": "lines",
         "showlegend": false,
         "type": "scatter3d",
         "x": [
          1.3012927770614624,
          0.013165799900889397
         ],
         "y": [
          -2.298536539077759,
          -0.01037819217890501
         ],
         "z": [
          0.38486096262931824,
          0.019886434078216553
         ]
        },
        {
         "line": {
          "color": "black",
          "width": 2
         },
         "mode": "lines",
         "showlegend": false,
         "type": "scatter3d",
         "x": [
          1.3012927770614624,
          0.6975894570350647
         ],
         "y": [
          -2.298536539077759,
          -0.463441401720047
         ],
         "z": [
          0.38486096262931824,
          1.1686897277832031
         ]
        },
        {
         "line": {
          "color": "black",
          "width": 2
         },
         "mode": "lines",
         "showlegend": false,
         "type": "scatter3d",
         "x": [
          1.3012927770614624,
          0.7668849229812622
         ],
         "y": [
          -2.298536539077759,
          -1.865081787109375
         ],
         "z": [
          0.38486096262931824,
          1.246026635169983
         ]
        },
        {
         "line": {
          "color": "black",
          "width": 2
         },
         "mode": "lines",
         "showlegend": false,
         "type": "scatter3d",
         "x": [
          1.3012927770614624,
          1.01445472240448
         ],
         "y": [
          -2.298536539077759,
          1.904237985610962
         ],
         "z": [
          0.38486096262931824,
          0.029960181564092636
         ]
        },
        {
         "line": {
          "color": "black",
          "width": 2
         },
         "mode": "lines",
         "showlegend": false,
         "type": "scatter3d",
         "x": [
          1.3012927770614624,
          -0.5299086570739746
         ],
         "y": [
          -2.298536539077759,
          1.8918405771255493
         ],
         "z": [
          0.38486096262931824,
          -0.8472691178321838
         ]
        },
        {
         "line": {
          "color": "black",
          "width": 2
         },
         "mode": "lines",
         "showlegend": false,
         "type": "scatter3d",
         "x": [
          1.3012927770614624,
          -0.5126376748085022
         ],
         "y": [
          -2.298536539077759,
          1.8780584335327148
         ],
         "z": [
          0.38486096262931824,
          0.9287542104721069
         ]
        },
        {
         "line": {
          "color": "black",
          "width": 2
         },
         "mode": "lines",
         "showlegend": false,
         "type": "scatter3d",
         "x": [
          1.3012927770614624,
          -1.0159950256347656
         ],
         "y": [
          -2.298536539077759,
          -0.40998730063438416
         ],
         "z": [
          0.38486096262931824,
          0.007142823655158281
         ]
        },
        {
         "line": {
          "color": "black",
          "width": 2
         },
         "mode": "lines",
         "showlegend": false,
         "type": "scatter3d",
         "x": [
          1.3012927770614624,
          0.5109314322471619
         ],
         "y": [
          -2.298536539077759,
          -0.3836943507194519
         ],
         "z": [
          0.38486096262931824,
          -0.8921939730644226
         ]
        },
        {
         "line": {
          "color": "black",
          "width": 2
         },
         "mode": "lines",
         "showlegend": false,
         "type": "scatter3d",
         "x": [
          1.3012927770614624,
          -0.23415841162204742
         ],
         "y": [
          -2.298536539077759,
          -2.324514865875244
         ],
         "z": [
          0.38486096262931824,
          1.2897777557373047
         ]
        },
        {
         "line": {
          "color": "black",
          "width": 2
         },
         "mode": "lines",
         "showlegend": false,
         "type": "scatter3d",
         "x": [
          1.3012927770614624,
          1.3099029064178467
         ],
         "y": [
          -2.298536539077759,
          -2.118119955062866
         ],
         "z": [
          0.38486096262931824,
          2.1601321697235107
         ]
        },
        {
         "line": {
          "color": "black",
          "width": 2
         },
         "mode": "lines",
         "showlegend": false,
         "type": "scatter3d",
         "x": [
          1.3099029064178467,
          -0.005195509176701307
         ],
         "y": [
          -2.118119955062866,
          1.5086822509765625
         ],
         "z": [
          2.1601321697235107,
          0.0330876000225544
         ]
        },
        {
         "line": {
          "color": "black",
          "width": 2
         },
         "mode": "lines",
         "showlegend": false,
         "type": "scatter3d",
         "x": [
          1.3099029064178467,
          0.013165799900889397
         ],
         "y": [
          -2.118119955062866,
          -0.01037819217890501
         ],
         "z": [
          2.1601321697235107,
          0.019886434078216553
         ]
        },
        {
         "line": {
          "color": "black",
          "width": 2
         },
         "mode": "lines",
         "showlegend": false,
         "type": "scatter3d",
         "x": [
          1.3099029064178467,
          0.6975894570350647
         ],
         "y": [
          -2.118119955062866,
          -0.463441401720047
         ],
         "z": [
          2.1601321697235107,
          1.1686897277832031
         ]
        },
        {
         "line": {
          "color": "black",
          "width": 2
         },
         "mode": "lines",
         "showlegend": false,
         "type": "scatter3d",
         "x": [
          1.3099029064178467,
          0.7668849229812622
         ],
         "y": [
          -2.118119955062866,
          -1.865081787109375
         ],
         "z": [
          2.1601321697235107,
          1.246026635169983
         ]
        },
        {
         "line": {
          "color": "black",
          "width": 2
         },
         "mode": "lines",
         "showlegend": false,
         "type": "scatter3d",
         "x": [
          1.3099029064178467,
          1.01445472240448
         ],
         "y": [
          -2.118119955062866,
          1.904237985610962
         ],
         "z": [
          2.1601321697235107,
          0.029960181564092636
         ]
        },
        {
         "line": {
          "color": "black",
          "width": 2
         },
         "mode": "lines",
         "showlegend": false,
         "type": "scatter3d",
         "x": [
          1.3099029064178467,
          -0.5126376748085022
         ],
         "y": [
          -2.118119955062866,
          1.8780584335327148
         ],
         "z": [
          2.1601321697235107,
          0.9287542104721069
         ]
        },
        {
         "line": {
          "color": "black",
          "width": 2
         },
         "mode": "lines",
         "showlegend": false,
         "type": "scatter3d",
         "x": [
          1.3099029064178467,
          -1.0159950256347656
         ],
         "y": [
          -2.118119955062866,
          -0.40998730063438416
         ],
         "z": [
          2.1601321697235107,
          0.007142823655158281
         ]
        },
        {
         "line": {
          "color": "black",
          "width": 2
         },
         "mode": "lines",
         "showlegend": false,
         "type": "scatter3d",
         "x": [
          1.3099029064178467,
          0.5109314322471619
         ],
         "y": [
          -2.118119955062866,
          -0.3836943507194519
         ],
         "z": [
          2.1601321697235107,
          -0.8921939730644226
         ]
        },
        {
         "line": {
          "color": "black",
          "width": 2
         },
         "mode": "lines",
         "showlegend": false,
         "type": "scatter3d",
         "x": [
          1.3099029064178467,
          -0.23415841162204742
         ],
         "y": [
          -2.118119955062866,
          -2.324514865875244
         ],
         "z": [
          2.1601321697235107,
          1.2897777557373047
         ]
        },
        {
         "line": {
          "color": "black",
          "width": 2
         },
         "mode": "lines",
         "showlegend": false,
         "type": "scatter3d",
         "x": [
          1.3099029064178467,
          1.3012927770614624
         ],
         "y": [
          -2.118119955062866,
          -2.298536539077759
         ],
         "z": [
          2.1601321697235107,
          0.38486096262931824
         ]
        }
       ],
       "layout": {
        "margin": {
         "b": 0,
         "l": 0,
         "r": 0,
         "t": 0
        },
        "template": {
         "data": {
          "bar": [
           {
            "error_x": {
             "color": "#2a3f5f"
            },
            "error_y": {
             "color": "#2a3f5f"
            },
            "marker": {
             "line": {
              "color": "#E5ECF6",
              "width": 0.5
             },
             "pattern": {
              "fillmode": "overlay",
              "size": 10,
              "solidity": 0.2
             }
            },
            "type": "bar"
           }
          ],
          "barpolar": [
           {
            "marker": {
             "line": {
              "color": "#E5ECF6",
              "width": 0.5
             },
             "pattern": {
              "fillmode": "overlay",
              "size": 10,
              "solidity": 0.2
             }
            },
            "type": "barpolar"
           }
          ],
          "carpet": [
           {
            "aaxis": {
             "endlinecolor": "#2a3f5f",
             "gridcolor": "white",
             "linecolor": "white",
             "minorgridcolor": "white",
             "startlinecolor": "#2a3f5f"
            },
            "baxis": {
             "endlinecolor": "#2a3f5f",
             "gridcolor": "white",
             "linecolor": "white",
             "minorgridcolor": "white",
             "startlinecolor": "#2a3f5f"
            },
            "type": "carpet"
           }
          ],
          "choropleth": [
           {
            "colorbar": {
             "outlinewidth": 0,
             "ticks": ""
            },
            "type": "choropleth"
           }
          ],
          "contour": [
           {
            "colorbar": {
             "outlinewidth": 0,
             "ticks": ""
            },
            "colorscale": [
             [
              0,
              "#0d0887"
             ],
             [
              0.1111111111111111,
              "#46039f"
             ],
             [
              0.2222222222222222,
              "#7201a8"
             ],
             [
              0.3333333333333333,
              "#9c179e"
             ],
             [
              0.4444444444444444,
              "#bd3786"
             ],
             [
              0.5555555555555556,
              "#d8576b"
             ],
             [
              0.6666666666666666,
              "#ed7953"
             ],
             [
              0.7777777777777778,
              "#fb9f3a"
             ],
             [
              0.8888888888888888,
              "#fdca26"
             ],
             [
              1,
              "#f0f921"
             ]
            ],
            "type": "contour"
           }
          ],
          "contourcarpet": [
           {
            "colorbar": {
             "outlinewidth": 0,
             "ticks": ""
            },
            "type": "contourcarpet"
           }
          ],
          "heatmap": [
           {
            "colorbar": {
             "outlinewidth": 0,
             "ticks": ""
            },
            "colorscale": [
             [
              0,
              "#0d0887"
             ],
             [
              0.1111111111111111,
              "#46039f"
             ],
             [
              0.2222222222222222,
              "#7201a8"
             ],
             [
              0.3333333333333333,
              "#9c179e"
             ],
             [
              0.4444444444444444,
              "#bd3786"
             ],
             [
              0.5555555555555556,
              "#d8576b"
             ],
             [
              0.6666666666666666,
              "#ed7953"
             ],
             [
              0.7777777777777778,
              "#fb9f3a"
             ],
             [
              0.8888888888888888,
              "#fdca26"
             ],
             [
              1,
              "#f0f921"
             ]
            ],
            "type": "heatmap"
           }
          ],
          "heatmapgl": [
           {
            "colorbar": {
             "outlinewidth": 0,
             "ticks": ""
            },
            "colorscale": [
             [
              0,
              "#0d0887"
             ],
             [
              0.1111111111111111,
              "#46039f"
             ],
             [
              0.2222222222222222,
              "#7201a8"
             ],
             [
              0.3333333333333333,
              "#9c179e"
             ],
             [
              0.4444444444444444,
              "#bd3786"
             ],
             [
              0.5555555555555556,
              "#d8576b"
             ],
             [
              0.6666666666666666,
              "#ed7953"
             ],
             [
              0.7777777777777778,
              "#fb9f3a"
             ],
             [
              0.8888888888888888,
              "#fdca26"
             ],
             [
              1,
              "#f0f921"
             ]
            ],
            "type": "heatmapgl"
           }
          ],
          "histogram": [
           {
            "marker": {
             "pattern": {
              "fillmode": "overlay",
              "size": 10,
              "solidity": 0.2
             }
            },
            "type": "histogram"
           }
          ],
          "histogram2d": [
           {
            "colorbar": {
             "outlinewidth": 0,
             "ticks": ""
            },
            "colorscale": [
             [
              0,
              "#0d0887"
             ],
             [
              0.1111111111111111,
              "#46039f"
             ],
             [
              0.2222222222222222,
              "#7201a8"
             ],
             [
              0.3333333333333333,
              "#9c179e"
             ],
             [
              0.4444444444444444,
              "#bd3786"
             ],
             [
              0.5555555555555556,
              "#d8576b"
             ],
             [
              0.6666666666666666,
              "#ed7953"
             ],
             [
              0.7777777777777778,
              "#fb9f3a"
             ],
             [
              0.8888888888888888,
              "#fdca26"
             ],
             [
              1,
              "#f0f921"
             ]
            ],
            "type": "histogram2d"
           }
          ],
          "histogram2dcontour": [
           {
            "colorbar": {
             "outlinewidth": 0,
             "ticks": ""
            },
            "colorscale": [
             [
              0,
              "#0d0887"
             ],
             [
              0.1111111111111111,
              "#46039f"
             ],
             [
              0.2222222222222222,
              "#7201a8"
             ],
             [
              0.3333333333333333,
              "#9c179e"
             ],
             [
              0.4444444444444444,
              "#bd3786"
             ],
             [
              0.5555555555555556,
              "#d8576b"
             ],
             [
              0.6666666666666666,
              "#ed7953"
             ],
             [
              0.7777777777777778,
              "#fb9f3a"
             ],
             [
              0.8888888888888888,
              "#fdca26"
             ],
             [
              1,
              "#f0f921"
             ]
            ],
            "type": "histogram2dcontour"
           }
          ],
          "mesh3d": [
           {
            "colorbar": {
             "outlinewidth": 0,
             "ticks": ""
            },
            "type": "mesh3d"
           }
          ],
          "parcoords": [
           {
            "line": {
             "colorbar": {
              "outlinewidth": 0,
              "ticks": ""
             }
            },
            "type": "parcoords"
           }
          ],
          "pie": [
           {
            "automargin": true,
            "type": "pie"
           }
          ],
          "scatter": [
           {
            "fillpattern": {
             "fillmode": "overlay",
             "size": 10,
             "solidity": 0.2
            },
            "type": "scatter"
           }
          ],
          "scatter3d": [
           {
            "line": {
             "colorbar": {
              "outlinewidth": 0,
              "ticks": ""
             }
            },
            "marker": {
             "colorbar": {
              "outlinewidth": 0,
              "ticks": ""
             }
            },
            "type": "scatter3d"
           }
          ],
          "scattercarpet": [
           {
            "marker": {
             "colorbar": {
              "outlinewidth": 0,
              "ticks": ""
             }
            },
            "type": "scattercarpet"
           }
          ],
          "scattergeo": [
           {
            "marker": {
             "colorbar": {
              "outlinewidth": 0,
              "ticks": ""
             }
            },
            "type": "scattergeo"
           }
          ],
          "scattergl": [
           {
            "marker": {
             "colorbar": {
              "outlinewidth": 0,
              "ticks": ""
             }
            },
            "type": "scattergl"
           }
          ],
          "scattermapbox": [
           {
            "marker": {
             "colorbar": {
              "outlinewidth": 0,
              "ticks": ""
             }
            },
            "type": "scattermapbox"
           }
          ],
          "scatterpolar": [
           {
            "marker": {
             "colorbar": {
              "outlinewidth": 0,
              "ticks": ""
             }
            },
            "type": "scatterpolar"
           }
          ],
          "scatterpolargl": [
           {
            "marker": {
             "colorbar": {
              "outlinewidth": 0,
              "ticks": ""
             }
            },
            "type": "scatterpolargl"
           }
          ],
          "scatterternary": [
           {
            "marker": {
             "colorbar": {
              "outlinewidth": 0,
              "ticks": ""
             }
            },
            "type": "scatterternary"
           }
          ],
          "surface": [
           {
            "colorbar": {
             "outlinewidth": 0,
             "ticks": ""
            },
            "colorscale": [
             [
              0,
              "#0d0887"
             ],
             [
              0.1111111111111111,
              "#46039f"
             ],
             [
              0.2222222222222222,
              "#7201a8"
             ],
             [
              0.3333333333333333,
              "#9c179e"
             ],
             [
              0.4444444444444444,
              "#bd3786"
             ],
             [
              0.5555555555555556,
              "#d8576b"
             ],
             [
              0.6666666666666666,
              "#ed7953"
             ],
             [
              0.7777777777777778,
              "#fb9f3a"
             ],
             [
              0.8888888888888888,
              "#fdca26"
             ],
             [
              1,
              "#f0f921"
             ]
            ],
            "type": "surface"
           }
          ],
          "table": [
           {
            "cells": {
             "fill": {
              "color": "#EBF0F8"
             },
             "line": {
              "color": "white"
             }
            },
            "header": {
             "fill": {
              "color": "#C8D4E3"
             },
             "line": {
              "color": "white"
             }
            },
            "type": "table"
           }
          ]
         },
         "layout": {
          "annotationdefaults": {
           "arrowcolor": "#2a3f5f",
           "arrowhead": 0,
           "arrowwidth": 1
          },
          "autotypenumbers": "strict",
          "coloraxis": {
           "colorbar": {
            "outlinewidth": 0,
            "ticks": ""
           }
          },
          "colorscale": {
           "diverging": [
            [
             0,
             "#8e0152"
            ],
            [
             0.1,
             "#c51b7d"
            ],
            [
             0.2,
             "#de77ae"
            ],
            [
             0.3,
             "#f1b6da"
            ],
            [
             0.4,
             "#fde0ef"
            ],
            [
             0.5,
             "#f7f7f7"
            ],
            [
             0.6,
             "#e6f5d0"
            ],
            [
             0.7,
             "#b8e186"
            ],
            [
             0.8,
             "#7fbc41"
            ],
            [
             0.9,
             "#4d9221"
            ],
            [
             1,
             "#276419"
            ]
           ],
           "sequential": [
            [
             0,
             "#0d0887"
            ],
            [
             0.1111111111111111,
             "#46039f"
            ],
            [
             0.2222222222222222,
             "#7201a8"
            ],
            [
             0.3333333333333333,
             "#9c179e"
            ],
            [
             0.4444444444444444,
             "#bd3786"
            ],
            [
             0.5555555555555556,
             "#d8576b"
            ],
            [
             0.6666666666666666,
             "#ed7953"
            ],
            [
             0.7777777777777778,
             "#fb9f3a"
            ],
            [
             0.8888888888888888,
             "#fdca26"
            ],
            [
             1,
             "#f0f921"
            ]
           ],
           "sequentialminus": [
            [
             0,
             "#0d0887"
            ],
            [
             0.1111111111111111,
             "#46039f"
            ],
            [
             0.2222222222222222,
             "#7201a8"
            ],
            [
             0.3333333333333333,
             "#9c179e"
            ],
            [
             0.4444444444444444,
             "#bd3786"
            ],
            [
             0.5555555555555556,
             "#d8576b"
            ],
            [
             0.6666666666666666,
             "#ed7953"
            ],
            [
             0.7777777777777778,
             "#fb9f3a"
            ],
            [
             0.8888888888888888,
             "#fdca26"
            ],
            [
             1,
             "#f0f921"
            ]
           ]
          },
          "colorway": [
           "#636efa",
           "#EF553B",
           "#00cc96",
           "#ab63fa",
           "#FFA15A",
           "#19d3f3",
           "#FF6692",
           "#B6E880",
           "#FF97FF",
           "#FECB52"
          ],
          "font": {
           "color": "#2a3f5f"
          },
          "geo": {
           "bgcolor": "white",
           "lakecolor": "white",
           "landcolor": "#E5ECF6",
           "showlakes": true,
           "showland": true,
           "subunitcolor": "white"
          },
          "hoverlabel": {
           "align": "left"
          },
          "hovermode": "closest",
          "mapbox": {
           "style": "light"
          },
          "paper_bgcolor": "white",
          "plot_bgcolor": "#E5ECF6",
          "polar": {
           "angularaxis": {
            "gridcolor": "white",
            "linecolor": "white",
            "ticks": ""
           },
           "bgcolor": "#E5ECF6",
           "radialaxis": {
            "gridcolor": "white",
            "linecolor": "white",
            "ticks": ""
           }
          },
          "scene": {
           "xaxis": {
            "backgroundcolor": "#E5ECF6",
            "gridcolor": "white",
            "gridwidth": 2,
            "linecolor": "white",
            "showbackground": true,
            "ticks": "",
            "zerolinecolor": "white"
           },
           "yaxis": {
            "backgroundcolor": "#E5ECF6",
            "gridcolor": "white",
            "gridwidth": 2,
            "linecolor": "white",
            "showbackground": true,
            "ticks": "",
            "zerolinecolor": "white"
           },
           "zaxis": {
            "backgroundcolor": "#E5ECF6",
            "gridcolor": "white",
            "gridwidth": 2,
            "linecolor": "white",
            "showbackground": true,
            "ticks": "",
            "zerolinecolor": "white"
           }
          },
          "shapedefaults": {
           "line": {
            "color": "#2a3f5f"
           }
          },
          "ternary": {
           "aaxis": {
            "gridcolor": "white",
            "linecolor": "white",
            "ticks": ""
           },
           "baxis": {
            "gridcolor": "white",
            "linecolor": "white",
            "ticks": ""
           },
           "bgcolor": "#E5ECF6",
           "caxis": {
            "gridcolor": "white",
            "linecolor": "white",
            "ticks": ""
           }
          },
          "title": {
           "x": 0.05
          },
          "xaxis": {
           "automargin": true,
           "gridcolor": "white",
           "linecolor": "white",
           "ticks": "",
           "title": {
            "standoff": 15
           },
           "zerolinecolor": "white",
           "zerolinewidth": 2
          },
          "yaxis": {
           "automargin": true,
           "gridcolor": "white",
           "linecolor": "white",
           "ticks": "",
           "title": {
            "standoff": 15
           },
           "zerolinecolor": "white",
           "zerolinewidth": 2
          }
         }
        }
       }
      }
     },
     "metadata": {},
     "output_type": "display_data"
    }
   ],
   "source": [
    "# use plotly to plot the 3d graph\n",
    "import plotly.graph_objects as go\n",
    "\n",
    "fig = go.Figure(data=[go.Scatter3d(\n",
    "    x=graph.ndata['R'][:,0],\n",
    "    y=graph.ndata['R'][:,1],\n",
    "    z=graph.ndata['R'][:,2],\n",
    "    mode='markers',\n",
    "    marker=dict(\n",
    "        size=12,\n",
    "        color=graph.ndata['Z'],                # set color to an array/list of desired values\n",
    "        colorscale='Viridis',   # choose a colorscale\n",
    "        opacity=1\n",
    "    )\n",
    ")])\n",
    "\n",
    "# add in the edges to the plot\n",
    "for i in range(graph.edges('uv')[0].shape[0]):\n",
    "    fig.add_trace(go.Scatter3d(\n",
    "        x=[graph.ndata['R'][graph.edges('uv')[0][i]][0],graph.ndata['R'][graph.edges('uv')[1][i]][0]],\n",
    "        y=[graph.ndata['R'][graph.edges('uv')[0][i]][1],graph.ndata['R'][graph.edges('uv')[1][i]][1]],\n",
    "        z=[graph.ndata['R'][graph.edges('uv')[0][i]][2],graph.ndata['R'][graph.edges('uv')[1][i]][2]],\n",
    "        mode='lines',\n",
    "        line=dict(\n",
    "            color='black',\n",
    "            width=2,\n",
    "        )\n",
    "    ))\n",
    "\n",
    "# supress trace information\n",
    "fig.update_traces(showlegend=False)\n",
    "\n",
    "\n",
    "\n",
    "\n",
    "# tight layout\n",
    "fig.update_layout(margin=dict(l=0, r=0, b=0, t=0))\n",
    "\n",
    "fig.show()\n",
    "\n",
    "\n"
   ]
  },
  {
   "cell_type": "code",
   "execution_count": 76,
   "metadata": {},
   "outputs": [
    {
     "name": "stdout",
     "output_type": "stream",
     "text": [
      "Collecting plotly\n",
      "  Downloading plotly-5.18.0-py3-none-any.whl (15.6 MB)\n",
      "\u001b[2K     \u001b[90m━━━━━━━━━━━━━━━━━━━━━━━━━━━━━━━━━━━━━━━━\u001b[0m \u001b[32m15.6/15.6 MB\u001b[0m \u001b[31m5.6 MB/s\u001b[0m eta \u001b[36m0:00:00\u001b[0m00:01\u001b[0m00:01\u001b[0m\n",
      "\u001b[?25hCollecting tenacity>=6.2.0 (from plotly)\n",
      "  Using cached tenacity-8.2.3-py3-none-any.whl (24 kB)\n",
      "Requirement already satisfied: packaging in /Users/maggs/miniconda3/envs/cochainrl/lib/python3.11/site-packages (from plotly) (21.3)\n",
      "Requirement already satisfied: pyparsing!=3.0.5,>=2.0.2 in /Users/maggs/miniconda3/envs/cochainrl/lib/python3.11/site-packages (from packaging->plotly) (3.0.4)\n",
      "Installing collected packages: tenacity, plotly\n",
      "Successfully installed plotly-5.18.0 tenacity-8.2.3\n",
      "Note: you may need to restart the kernel to use updated packages.\n"
     ]
    }
   ],
   "source": [
    "pip install plotly"
   ]
  },
  {
   "cell_type": "code",
   "execution_count": null,
   "metadata": {},
   "outputs": [],
   "source": []
  }
 ],
 "metadata": {
  "kernelspec": {
   "display_name": ".venv",
   "language": "python",
   "name": "python3"
  },
  "language_info": {
   "codemirror_mode": {
    "name": "ipython",
    "version": 3
   },
   "file_extension": ".py",
   "mimetype": "text/x-python",
   "name": "python",
   "nbconvert_exporter": "python",
   "pygments_lexer": "ipython3",
   "version": "3.11.4"
  },
  "orig_nbformat": 4
 },
 "nbformat": 4,
 "nbformat_minor": 2
}
